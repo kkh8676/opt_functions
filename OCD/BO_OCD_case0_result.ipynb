{
 "cells": [
  {
   "cell_type": "code",
   "execution_count": 1,
   "metadata": {},
   "outputs": [],
   "source": [
    "import pymongo\n",
    "from spearmint.utils import compression\n",
    "from spearmint.utils import functions\n",
    "import matplotlib.pyplot as plt\n",
    "import numpy as np\n",
    "import seaborn as sns\n",
    "from spearmint.tasks import input_space\n",
    "sns.set()"
   ]
  },
  {
   "cell_type": "code",
   "execution_count": 2,
   "metadata": {},
   "outputs": [],
   "source": [
    "import matlab.engine\n",
    "import matlab\n",
    "from scipy import io"
   ]
  },
  {
   "cell_type": "code",
   "execution_count": 3,
   "metadata": {},
   "outputs": [],
   "source": [
    "sns.set()"
   ]
  },
  {
   "cell_type": "code",
   "execution_count": 4,
   "metadata": {},
   "outputs": [],
   "source": [
    "case = 0"
   ]
  },
  {
   "cell_type": "code",
   "execution_count": 5,
   "metadata": {},
   "outputs": [],
   "source": [
    "mat_file = io.loadmat(\"Spec_CD.mat\")"
   ]
  },
  {
   "cell_type": "code",
   "execution_count": 6,
   "metadata": {},
   "outputs": [],
   "source": [
    "O_spec = mat_file[\"GN_spec\"]\n",
    "real_X = mat_file[\"S_x\"]"
   ]
  },
  {
   "cell_type": "code",
   "execution_count": 7,
   "metadata": {},
   "outputs": [],
   "source": [
    "real_X = real_X[case]\n",
    "O_spec = O_spec[case]"
   ]
  },
  {
   "cell_type": "code",
   "execution_count": 8,
   "metadata": {},
   "outputs": [],
   "source": [
    "mongo_conn = pymongo.MongoClient('127.0.0.1',27017)\n",
    "mongo_conn.list_database_names()\n",
    "\n",
    "mongo_db = mongo_conn['spearmint']"
   ]
  },
  {
   "cell_type": "code",
   "execution_count": 9,
   "metadata": {},
   "outputs": [],
   "source": [
    "collection_list = mongo_db.list_collection_names()"
   ]
  },
  {
   "cell_type": "code",
   "execution_count": 10,
   "metadata": {},
   "outputs": [],
   "source": [
    "exp_name = 'mse_rcwa_case0'"
   ]
  },
  {
   "cell_type": "code",
   "execution_count": 11,
   "metadata": {},
   "outputs": [],
   "source": [
    "jobs_EI_exp = []\n",
    "jobs_Mk10_EI_exp = []\n",
    "\n",
    "recomm_EI_exp = []\n",
    "recomm_Mk10_EI_exp = []\n",
    "\n",
    "if \"%s_test.jobs\"%(exp_name) in collection_list: jobs_EI_exp.append(mongo_db[\"%s_test.jobs\"%(exp_name)])\n",
    "if \"%s_Mk10_EI.jobs\"%(exp_name) in collection_list: jobs_Mk10_EI_exp.append(mongo_db[\"%s_Mk10_EI.jobs\"%(exp_name)])\n",
    "if \"%s_test.recommendations\"%(exp_name) in collection_list: recomm_EI_exp.append(mongo_db[\"%s_test.recommendations\"%(exp_name)])\n",
    "if \"%s_Mk10_EI.recommendations\"%(exp_name) in collection_list: recomm_Mk10_EI_exp.append(mongo_db[\"%s_Mk10_EI.recommendations\"%(exp_name)])\n",
    "for i in range(1,4):\n",
    "    if \"%s_test-%d.jobs\"%(exp_name,i) in collection_list: jobs_EI_exp.append(mongo_db[\"%s_test-%d.jobs\"%(exp_name,i)])\n",
    "        \n",
    "    if \"%s_test-%d.recommendations\"%(exp_name,i) in collection_list: recomm_EI_exp.append(mongo_db[\"%s_test-%d.recommendations\"%(exp_name,i)])"
   ]
  },
  {
   "cell_type": "code",
   "execution_count": 29,
   "metadata": {},
   "outputs": [
    {
     "data": {
      "text/plain": [
       "Collection(Database(MongoClient(host=['127.0.0.1:27017'], document_class=dict, tz_aware=False, connect=True), u'spearmint'), u'mse_rcwa_case0_Mk10_EI.jobs')"
      ]
     },
     "execution_count": 29,
     "metadata": {},
     "output_type": "execute_result"
    }
   ],
   "source": [
    "jobs_Mk10_EI_exp[0]"
   ]
  },
  {
   "cell_type": "code",
   "execution_count": 32,
   "metadata": {},
   "outputs": [],
   "source": [
    "locs_EI_exp = functions.get_recomm_obs_loc(recomm_EI_exp)\n",
    "locs_Mk10_EI_exp = functions.get_recomm_obs_loc(recomm_Mk10_EI_exp)\n",
    "\n",
    "observed_obj_EI_exp = functions.observed_obj(recomm_EI_exp)"
   ]
  },
  {
   "cell_type": "code",
   "execution_count": 18,
   "metadata": {},
   "outputs": [
    {
     "data": {
      "text/plain": [
       "array([  19.37422588,   21.98265885,   24.39183805,   26.94798671,\n",
       "       1650.50254819])"
      ]
     },
     "execution_count": 18,
     "metadata": {},
     "output_type": "execute_result"
    }
   ],
   "source": [
    "real_X"
   ]
  },
  {
   "cell_type": "code",
   "execution_count": 19,
   "metadata": {},
   "outputs": [
    {
     "data": {
      "text/plain": [
       "[19.156541128962377,\n",
       " 19.448503191249145,\n",
       " 23.835081422697613,\n",
       " 26.703499705857876,\n",
       " 1290.908779884152]"
      ]
     },
     "execution_count": 19,
     "metadata": {},
     "output_type": "execute_result"
    }
   ],
   "source": [
    "locs_EI_exp[0][0]"
   ]
  },
  {
   "cell_type": "code",
   "execution_count": 20,
   "metadata": {},
   "outputs": [
    {
     "data": {
      "text/plain": [
       "array([2.17684749e-01, 2.53415566e+00, 5.56756626e-01, 2.44487001e-01,\n",
       "       3.59593768e+02])"
      ]
     },
     "execution_count": 20,
     "metadata": {},
     "output_type": "execute_result"
    }
   ],
   "source": [
    "real_X - locs_EI_exp[0][0]"
   ]
  },
  {
   "cell_type": "code",
   "execution_count": 21,
   "metadata": {},
   "outputs": [
    {
     "data": {
      "text/plain": [
       "array([  19.37422588,   21.98265885,   24.39183805,   26.94798671,\n",
       "       1650.50254819])"
      ]
     },
     "execution_count": 21,
     "metadata": {},
     "output_type": "execute_result"
    }
   ],
   "source": [
    "real_X"
   ]
  },
  {
   "cell_type": "code",
   "execution_count": 22,
   "metadata": {},
   "outputs": [
    {
     "data": {
      "text/plain": [
       "[19.333078096259012,\n",
       " 21.407427777248238,\n",
       " 24.259984811495386,\n",
       " 26.78966276426745,\n",
       " 1657.5963167932055]"
      ]
     },
     "execution_count": 22,
     "metadata": {},
     "output_type": "execute_result"
    }
   ],
   "source": [
    "locs_EI_exp[0][499]"
   ]
  },
  {
   "cell_type": "code",
   "execution_count": 23,
   "metadata": {},
   "outputs": [],
   "source": [
    "def get_abs_error(real_X, locs_exp):\n",
    "    error_exp = []\n",
    "    for exp_num in range(len(locs_exp)):\n",
    "        error_iter = []\n",
    "        locs_cur_exp = locs_exp[exp_num]\n",
    "        \n",
    "        for idx in range(len(locs_cur_exp)):\n",
    "            error = real_X - locs_cur_exp[idx]\n",
    "            error = np.abs(error)\n",
    "            error_iter.append(error)\n",
    "            \n",
    "        error_exp.append(error_iter)\n",
    "    return error_exp"
   ]
  },
  {
   "cell_type": "code",
   "execution_count": 24,
   "metadata": {},
   "outputs": [],
   "source": [
    "error_EI_exp = get_abs_error(real_X, locs_EI_exp)\n",
    "error_Mk10_EI_exp = get_abs_error(real_X, locs_Mk10_EI_exp)"
   ]
  },
  {
   "cell_type": "code",
   "execution_count": null,
   "metadata": {},
   "outputs": [],
   "source": [
    "theta1_abs_error = [item[0] for item in error_EI_exp[3]]\n",
    "theta2_abs_error = [item[1] for item in error_EI_exp[3]]\n",
    "theta3_abs_error = [item[2] for item in error_EI_exp[3]]\n",
    "theta4_abs_error = [item[3] for item in error_EI_exp[3]]\n",
    "theta5_abs_error = [item[4] for item in error_EI_exp[3]]"
   ]
  },
  {
   "cell_type": "markdown",
   "metadata": {},
   "source": [
    "### Mk10 case"
   ]
  },
  {
   "cell_type": "code",
   "execution_count": null,
   "metadata": {},
   "outputs": [],
   "source": [
    "theta1_Mk10_EI_abs_error = [item[0] for item in error_Mk10_EI_exp[0]]\n",
    "theta2_Mk10_EI_abs_error = [item[1] for item in error_Mk10_EI_exp[0]]\n",
    "theta3_Mk10_EI_abs_error = [item[2] for item in error_Mk10_EI_exp[0]]\n",
    "theta4_Mk10_EI_abs_error = [item[3] for item in error_Mk10_EI_exp[0]]\n",
    "theta5_Mk10_EI_abs_error = [item[4] for item in error_Mk10_EI_exp[0]]"
   ]
  },
  {
   "cell_type": "code",
   "execution_count": null,
   "metadata": {},
   "outputs": [],
   "source": [
    "sns.set()"
   ]
  },
  {
   "cell_type": "code",
   "execution_count": null,
   "metadata": {},
   "outputs": [],
   "source": [
    "plt.figure()\n",
    "plt.plot(theta1_abs_error)\n",
    "plt.show()"
   ]
  },
  {
   "cell_type": "code",
   "execution_count": null,
   "metadata": {},
   "outputs": [],
   "source": [
    "plt.figure()\n",
    "plt.plot(theta2_abs_error)\n",
    "plt.show()"
   ]
  },
  {
   "cell_type": "code",
   "execution_count": null,
   "metadata": {},
   "outputs": [],
   "source": [
    "plt.figure()\n",
    "plt.plot(theta3_abs_error)\n",
    "plt.show()"
   ]
  },
  {
   "cell_type": "code",
   "execution_count": null,
   "metadata": {},
   "outputs": [],
   "source": [
    "plt.figure()\n",
    "plt.plot(theta4_abs_error)\n",
    "plt.show()"
   ]
  },
  {
   "cell_type": "code",
   "execution_count": null,
   "metadata": {},
   "outputs": [],
   "source": [
    "plt.figure()\n",
    "plt.plot(theta5_abs_error)\n",
    "plt.show()"
   ]
  },
  {
   "cell_type": "code",
   "execution_count": null,
   "metadata": {},
   "outputs": [],
   "source": [
    "real_X"
   ]
  },
  {
   "cell_type": "markdown",
   "metadata": {},
   "source": [
    "## Mk10 Case"
   ]
  },
  {
   "cell_type": "code",
   "execution_count": null,
   "metadata": {},
   "outputs": [],
   "source": [
    "plt.figure()\n",
    "plt.plot(theta1_Mk10_EI_abs_error)\n",
    "plt.show()"
   ]
  },
  {
   "cell_type": "code",
   "execution_count": null,
   "metadata": {},
   "outputs": [],
   "source": [
    "plt.figure()\n",
    "plt.plot(theta2_Mk10_EI_abs_error)\n",
    "plt.show()"
   ]
  },
  {
   "cell_type": "code",
   "execution_count": null,
   "metadata": {},
   "outputs": [],
   "source": [
    "plt.figure()\n",
    "plt.plot(theta3_Mk10_EI_abs_error)\n",
    "plt.show()"
   ]
  },
  {
   "cell_type": "code",
   "execution_count": null,
   "metadata": {},
   "outputs": [],
   "source": [
    "plt.figure()\n",
    "plt.plot(theta4_Mk10_EI_abs_error)\n",
    "plt.show()"
   ]
  },
  {
   "cell_type": "code",
   "execution_count": null,
   "metadata": {},
   "outputs": [],
   "source": [
    "plt.figure()\n",
    "plt.plot(theta5_Mk10_EI_abs_error)\n",
    "plt.show()"
   ]
  },
  {
   "cell_type": "code",
   "execution_count": 41,
   "metadata": {},
   "outputs": [],
   "source": [
    "test = np.multiply(observed_obj_EI_exp[0],303)"
   ]
  },
  {
   "cell_type": "code",
   "execution_count": 39,
   "metadata": {},
   "outputs": [
    {
     "data": {
      "text/plain": [
       "500"
      ]
     },
     "execution_count": 39,
     "metadata": {},
     "output_type": "execute_result"
    }
   ],
   "source": [
    "len(observed_obj_EI_exp[0])"
   ]
  },
  {
   "cell_type": "code",
   "execution_count": 42,
   "metadata": {},
   "outputs": [
    {
     "data": {
      "text/plain": [
       "[<matplotlib.lines.Line2D at 0x7f91aec341d0>]"
      ]
     },
     "execution_count": 42,
     "metadata": {},
     "output_type": "execute_result"
    },
    {
     "data": {
      "image/png": "[encoded data removed]",
      "text/plain": [
       "<Figure size 432x288 with 1 Axes>"
      ]
     },
     "metadata": {},
     "output_type": "display_data"
    }
   ],
   "source": [
    "plt.plot(test)"
   ]
  },
  {
   "cell_type": "code",
   "execution_count": 35,
   "metadata": {},
   "outputs": [
    {
     "data": {
      "text/plain": [
       "[<matplotlib.lines.Line2D at 0x7f91aeda0310>]"
      ]
     },
     "execution_count": 35,
     "metadata": {},
     "output_type": "execute_result"
    },
    {
     "data": {
      "image/png": "[encoded data removed]",
      "text/plain": [
       "<Figure size 432x288 with 1 Axes>"
      ]
     },
     "metadata": {},
     "output_type": "display_data"
    }
   ],
   "source": [
    "plt.plot(observed_obj_EI_exp[0] * 303)\n",
    "plt.plot(observed_obj_EI_exp[1] * 303)\n",
    "plt.plot(observed_obj_EI_exp[2] * 303)\n",
    "plt.plot(observed_obj_EI_exp[3] * 303)"
   ]
  },
  {
   "cell_type": "code",
   "execution_count": null,
   "metadata": {},
   "outputs": [],
   "source": []
  }
 ],
 "metadata": {
  "kernelspec": {
   "display_name": "Python 2",
   "language": "python",
   "name": "python2"
  },
  "language_info": {
   "codemirror_mode": {
    "name": "ipython",
    "version": 2
   },
   "file_extension": ".py",
   "mimetype": "text/x-python",
   "name": "python",
   "nbconvert_exporter": "python",
   "pygments_lexer": "ipython2",
   "version": "2.7.18"
  }
 },
 "nbformat": 4,
 "nbformat_minor": 2
}
