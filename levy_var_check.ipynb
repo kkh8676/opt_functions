{
 "cells": [
  {
   "cell_type": "code",
   "execution_count": 1,
   "metadata": {},
   "outputs": [],
   "source": [
    "import numpy as np\n",
    "import matplotlib.pyplot as plt\n",
    "import os\n",
    "import seaborn as sns\n",
    "sns.set()"
   ]
  },
  {
   "cell_type": "code",
   "execution_count": 6,
   "metadata": {},
   "outputs": [],
   "source": [
    "file_path = os.getcwd() + \"\\\\var_check\""
   ]
  },
  {
   "cell_type": "markdown",
   "metadata": {},
   "source": [
    "### For levy function check"
   ]
  },
  {
   "cell_type": "code",
   "execution_count": 7,
   "metadata": {},
   "outputs": [],
   "source": [
    "file_path = file_path + \"\\\\levy_var_check_200\""
   ]
  },
  {
   "cell_type": "code",
   "execution_count": 8,
   "metadata": {},
   "outputs": [],
   "source": [
    "grids = []\n",
    "acq_grids = []\n",
    "\n",
    "for i in range(5,34):\n",
    "    grids.append(np.load(file_path + \"\\\\grid_iter_%d.npy\"%i))\n",
    "    acq_grids.append(np.load(file_path + \"\\\\saved_acq_iter_%d.npy\"%i))"
   ]
  },
  {
   "cell_type": "code",
   "execution_count": 121,
   "metadata": {},
   "outputs": [],
   "source": [
    "x_min = -5\n",
    "x_max = 5"
   ]
  },
  {
   "cell_type": "code",
   "execution_count": 129,
   "metadata": {},
   "outputs": [
    {
     "data": {
      "text/plain": [
       "array([0.91345215, 1.94250488, 0.42834473, 1.34484863])"
      ]
     },
     "execution_count": 129,
     "metadata": {},
     "output_type": "execute_result"
    }
   ],
   "source": [
    "grids[0][0] *2"
   ]
  },
  {
   "cell_type": "code",
   "execution_count": 133,
   "metadata": {},
   "outputs": [],
   "source": [
    "mapped_grids = []\n",
    "\n",
    "for grid in grids:\n",
    "    mapped_grid = []\n",
    "    for point in grid:\n",
    "        mapped_point = point * (x_max - x_min) + x_min\n",
    "        mapped_grid.append(mapped_point)\n",
    "        \n",
    "    mapped_grids.append(mapped_grid)"
   ]
  },
  {
   "cell_type": "code",
   "execution_count": 134,
   "metadata": {},
   "outputs": [
    {
     "data": {
      "text/plain": [
       "29"
      ]
     },
     "execution_count": 134,
     "metadata": {},
     "output_type": "execute_result"
    }
   ],
   "source": [
    "len(mapped_grids)"
   ]
  },
  {
   "cell_type": "code",
   "execution_count": 10,
   "metadata": {},
   "outputs": [
    {
     "data": {
      "text/plain": [
       "200"
      ]
     },
     "execution_count": 10,
     "metadata": {},
     "output_type": "execute_result"
    }
   ],
   "source": [
    "len(acq_grids[0])"
   ]
  },
  {
   "cell_type": "markdown",
   "metadata": {},
   "source": [
    "### For first round "
   ]
  },
  {
   "cell_type": "code",
   "execution_count": 79,
   "metadata": {
    "scrolled": true
   },
   "outputs": [
    {
     "name": "stdout",
     "output_type": "stream",
     "text": [
      "average: 0.966015, variance: 0.000000, at x 9579\n",
      "average: 0.542723, variance: 0.179176, at x 9579\n",
      "average: 0.391438, variance: 0.103745, at x 5685\n",
      "average: 0.327093, variance: 0.136377, at x 9579\n",
      "average: 0.288987, variance: 0.077995, at x 5685\n",
      "average: 0.330637, variance: 0.098374, at x 6427\n",
      "average: 0.305422, variance: 0.088135, at x 6427\n",
      "average: 0.310031, variance: 0.033859, at x 7144\n",
      "average: 0.320089, variance: 0.030907, at x 7144\n",
      "average: 0.311629, variance: 0.028460, at x 7144\n",
      "average: 0.295930, variance: 0.028337, at x 7144\n",
      "average: 0.283283, variance: 0.027735, at x 7144\n",
      "average: 0.271525, variance: 0.027261, at x 7144\n",
      "average: 0.260437, variance: 0.026912, at x 7144\n",
      "average: 0.257532, variance: 0.025236, at x 7144\n",
      "average: 0.251952, variance: 0.034209, at x 3328\n",
      "average: 0.245894, variance: 0.032783, at x 3328\n",
      "average: 0.253466, variance: 0.029794, at x 9952\n",
      "average: 0.265495, variance: 0.029745, at x 704\n",
      "average: 0.260404, variance: 0.028750, at x 704\n",
      "average: 0.255969, variance: 0.027775, at x 704\n",
      "average: 0.249499, variance: 0.027392, at x 704\n",
      "average: 0.242893, variance: 0.027161, at x 704\n",
      "average: 0.245804, variance: 0.035259, at x 4128\n",
      "average: 0.241506, variance: 0.032326, at x 5440\n",
      "average: 0.237498, variance: 0.031484, at x 5440\n",
      "average: 0.240524, variance: 0.026148, at x 7104\n",
      "average: 0.242970, variance: 0.024024, at x 9952\n",
      "average: 0.238931, variance: 0.023652, at x 9952\n",
      "average: 0.231570, variance: 0.024771, at x 3328\n",
      "average: 0.228962, variance: 0.024590, at x 912\n",
      "average: 0.226473, variance: 0.024014, at x 912\n",
      "average: 0.226433, variance: 0.023286, at x 912\n",
      "average: 0.223727, variance: 0.022843, at x 912\n",
      "average: 0.232750, variance: 0.025665, at x 7264\n",
      "average: 0.236727, variance: 0.025505, at x 7264\n",
      "average: 0.240762, variance: 0.029347, at x 1670\n",
      "average: 0.239403, variance: 0.028643, at x 1670\n",
      "average: 0.235838, variance: 0.028392, at x 1670\n",
      "average: 0.233415, variance: 0.027911, at x 1670\n",
      "average: 0.229961, variance: 0.027707, at x 1670\n",
      "average: 0.231859, variance: 0.023291, at x 912\n",
      "average: 0.231892, variance: 0.022749, at x 912\n",
      "average: 0.229039, variance: 0.022582, at x 912\n",
      "average: 0.226946, variance: 0.022273, at x 912\n",
      "average: 0.224453, variance: 0.022068, at x 912\n",
      "average: 0.222783, variance: 0.021727, at x 912\n",
      "average: 0.220341, variance: 0.021555, at x 912\n",
      "average: 0.218539, variance: 0.021271, at x 912\n",
      "average: 0.218746, variance: 0.021186, at x 7264\n",
      "average: 0.219479, variance: 0.014611, at x 3516\n",
      "average: 0.224701, variance: 0.014172, at x 5556\n",
      "average: 0.220654, variance: 0.014757, at x 5556\n",
      "average: 0.219911, variance: 0.014513, at x 5556\n",
      "average: 0.220658, variance: 0.014279, at x 5556\n",
      "average: 0.224181, variance: 0.014707, at x 5556\n",
      "average: 0.222646, variance: 0.014581, at x 5556\n",
      "average: 0.221628, variance: 0.014388, at x 5556\n",
      "average: 0.220133, variance: 0.014274, at x 5556\n",
      "average: 0.218958, variance: 0.014118, at x 5556\n",
      "average: 0.218385, variance: 0.013906, at x 5556\n",
      "average: 0.217611, variance: 0.013718, at x 5556\n",
      "average: 0.216877, variance: 0.013534, at x 5556\n",
      "average: 0.220357, variance: 0.014085, at x 5556\n",
      "average: 0.220085, variance: 0.013873, at x 5556\n",
      "average: 0.221253, variance: 0.013752, at x 5556\n",
      "average: 0.223073, variance: 0.013765, at x 5556\n",
      "average: 0.221408, variance: 0.013749, at x 5556\n",
      "average: 0.220122, variance: 0.013662, at x 5556\n",
      "average: 0.219570, variance: 0.013488, at x 5556\n",
      "average: 0.219265, variance: 0.013304, at x 5556\n",
      "average: 0.222815, variance: 0.014014, at x 5556\n",
      "average: 0.221280, variance: 0.013992, at x 5556\n",
      "average: 0.221882, variance: 0.013829, at x 5556\n",
      "average: 0.220760, variance: 0.013738, at x 5556\n",
      "average: 0.218760, variance: 0.013857, at x 5556\n",
      "average: 0.217665, variance: 0.013768, at x 5556\n",
      "average: 0.216949, variance: 0.013631, at x 5556\n",
      "average: 0.216911, variance: 0.013459, at x 5556\n",
      "average: 0.214870, variance: 0.013620, at x 5556\n",
      "average: 0.214285, variance: 0.013479, at x 5556\n",
      "average: 0.213948, variance: 0.013324, at x 5556\n",
      "average: 0.212799, variance: 0.013272, at x 5556\n",
      "average: 0.211926, variance: 0.013177, at x 5556\n",
      "average: 0.211440, variance: 0.013042, at x 5556\n",
      "average: 0.210946, variance: 0.012911, at x 5556\n",
      "average: 0.213036, variance: 0.013138, at x 5556\n",
      "average: 0.214043, variance: 0.013077, at x 5556\n",
      "average: 0.212651, variance: 0.013101, at x 5556\n",
      "average: 0.211185, variance: 0.013146, at x 5556\n",
      "average: 0.210595, variance: 0.013033, at x 5556\n",
      "average: 0.209303, variance: 0.013043, at x 5556\n",
      "average: 0.208836, variance: 0.012923, at x 5556\n",
      "average: 0.214075, variance: 0.015338, at x 5556\n",
      "average: 0.213932, variance: 0.015179, at x 5556\n",
      "average: 0.214130, variance: 0.015024, at x 5556\n",
      "average: 0.212684, variance: 0.015070, at x 5556\n",
      "average: 0.213112, variance: 0.014934, at x 5556\n",
      "average: 0.213545, variance: 0.014802, at x 5556\n",
      "average: 0.213179, variance: 0.014667, at x 5556\n",
      "average: 0.213059, variance: 0.014523, at x 5556\n",
      "average: 0.212522, variance: 0.014410, at x 5556\n",
      "average: 0.211279, variance: 0.014428, at x 5556\n",
      "average: 0.210642, variance: 0.014331, at x 5556\n",
      "average: 0.210316, variance: 0.014205, at x 5556\n",
      "average: 0.211263, variance: 0.014166, at x 5556\n",
      "average: 0.211638, variance: 0.014048, at x 5556\n",
      "average: 0.211540, variance: 0.013919, at x 5556\n",
      "average: 0.210478, variance: 0.013913, at x 5556\n",
      "average: 0.209579, variance: 0.013875, at x 5556\n",
      "average: 0.208517, variance: 0.013874, at x 5556\n",
      "average: 0.206921, variance: 0.014033, at x 5556\n",
      "average: 0.206907, variance: 0.013909, at x 5556\n",
      "average: 0.206269, variance: 0.013833, at x 5556\n",
      "average: 0.206024, variance: 0.013719, at x 5556\n",
      "average: 0.207904, variance: 0.014008, at x 5556\n",
      "average: 0.207437, variance: 0.013913, at x 5556\n",
      "average: 0.206341, variance: 0.013936, at x 5556\n",
      "average: 0.205990, variance: 0.013833, at x 5556\n",
      "average: 0.205828, variance: 0.013721, at x 5556\n",
      "average: 0.205559, variance: 0.013616, at x 5556\n",
      "average: 0.206441, variance: 0.013599, at x 5556\n",
      "average: 0.206426, variance: 0.013488, at x 5556\n",
      "average: 0.206240, variance: 0.013384, at x 5556\n",
      "average: 0.208103, variance: 0.013707, at x 5556\n",
      "average: 0.207535, variance: 0.013639, at x 5556\n",
      "average: 0.207242, variance: 0.013543, at x 5556\n",
      "average: 0.207650, variance: 0.013458, at x 5556\n",
      "average: 0.207204, variance: 0.013379, at x 5556\n",
      "average: 0.209010, variance: 0.013697, at x 5556\n",
      "average: 0.208503, variance: 0.013626, at x 5556\n",
      "average: 0.207937, variance: 0.013565, at x 5556\n",
      "average: 0.209223, variance: 0.013681, at x 5556\n",
      "average: 0.210198, variance: 0.013705, at x 5556\n",
      "average: 0.209299, variance: 0.013712, at x 5556\n",
      "average: 0.208382, variance: 0.013724, at x 5556\n",
      "average: 0.210211, variance: 0.014079, at x 5556\n",
      "average: 0.209938, variance: 0.013987, at x 5556\n",
      "average: 0.210072, variance: 0.013889, at x 5556\n",
      "average: 0.209942, variance: 0.013792, at x 5556\n",
      "average: 0.211121, variance: 0.013889, at x 5556\n",
      "average: 0.210757, variance: 0.013810, at x 5556\n",
      "average: 0.210778, variance: 0.013713, at x 5556\n",
      "average: 0.210944, variance: 0.013622, at x 5556\n",
      "average: 0.210212, variance: 0.013605, at x 5556\n",
      "average: 0.209601, variance: 0.013566, at x 5556\n",
      "average: 0.209481, variance: 0.013476, at x 5556\n",
      "average: 0.209607, variance: 0.013387, at x 5556\n",
      "average: 0.209169, variance: 0.013326, at x 5556\n",
      "average: 0.208702, variance: 0.013270, at x 5556\n",
      "average: 0.208088, variance: 0.013238, at x 5556\n",
      "average: 0.207417, variance: 0.013219, at x 5556\n",
      "average: 0.207650, variance: 0.013141, at x 5556\n",
      "average: 0.207415, variance: 0.013064, at x 5556\n",
      "average: 0.206910, variance: 0.013019, at x 5556\n",
      "average: 0.207649, variance: 0.013020, at x 5556\n",
      "average: 0.207461, variance: 0.012943, at x 5556\n",
      "average: 0.206332, variance: 0.013061, at x 5556\n",
      "average: 0.206077, variance: 0.012989, at x 5556\n",
      "average: 0.205977, variance: 0.012910, at x 5556\n",
      "average: 0.206149, variance: 0.012834, at x 5556\n",
      "average: 0.205703, variance: 0.012787, at x 5556\n",
      "average: 0.205437, variance: 0.012720, at x 5556\n",
      "average: 0.206402, variance: 0.014555, at x 3516\n",
      "average: 0.205890, variance: 0.014509, at x 3516\n",
      "average: 0.205357, variance: 0.014469, at x 3516\n",
      "average: 0.206038, variance: 0.014459, at x 3516\n",
      "average: 0.205733, variance: 0.014389, at x 3516\n",
      "average: 0.204981, variance: 0.014398, at x 3516\n",
      "average: 0.204622, variance: 0.014336, at x 3516\n",
      "average: 0.204290, variance: 0.014270, at x 3516\n",
      "average: 0.203588, variance: 0.014272, at x 3516\n",
      "average: 0.202918, variance: 0.014266, at x 3516\n"
     ]
    },
    {
     "name": "stdout",
     "output_type": "stream",
     "text": [
      "average: 0.202583, variance: 0.014204, at x 3516\n",
      "average: 0.202651, variance: 0.014123, at x 3516\n",
      "average: 0.202695, variance: 0.014044, at x 3516\n",
      "average: 0.202002, variance: 0.014049, at x 3516\n",
      "average: 0.201506, variance: 0.014013, at x 3516\n",
      "average: 0.201381, variance: 0.013938, at x 3516\n",
      "average: 0.201091, variance: 0.013876, at x 3516\n",
      "average: 0.200917, variance: 0.012066, at x 5556\n",
      "average: 0.201083, variance: 0.012004, at x 5556\n",
      "average: 0.201048, variance: 0.011939, at x 5556\n",
      "average: 0.201352, variance: 0.011891, at x 5556\n",
      "average: 0.200617, variance: 0.011926, at x 5556\n",
      "average: 0.200678, variance: 0.011863, at x 5556\n",
      "average: 0.200109, variance: 0.011860, at x 5556\n",
      "average: 0.199983, variance: 0.011800, at x 5556\n",
      "average: 0.199914, variance: 0.011738, at x 5556\n",
      "average: 0.201224, variance: 0.012001, at x 5556\n",
      "average: 0.201058, variance: 0.011943, at x 5556\n",
      "average: 0.201024, variance: 0.011881, at x 5556\n",
      "average: 0.201351, variance: 0.013543, at x 3516\n",
      "average: 0.200907, variance: 0.013512, at x 3516\n",
      "average: 0.201046, variance: 0.013446, at x 3516\n",
      "average: 0.201289, variance: 0.013389, at x 3516\n",
      "average: 0.200897, variance: 0.013351, at x 3516\n",
      "average: 0.200479, variance: 0.013318, at x 3516\n",
      "average: 0.200504, variance: 0.013251, at x 3516\n",
      "average: 0.200865, variance: 0.013211, at x 3516\n"
     ]
    }
   ],
   "source": [
    "info = dict()\n",
    "for i in range(1,201):\n",
    "    cur_target_grids = list(acq_grids[0][:i])\n",
    "    avg_cur_target_grids = np.average(cur_target_grids, axis=0)\n",
    "    var_cur_target_grids = np.var(cur_target_grids,axis=0)\n",
    "    cur_largest_sol_idx = np.argmax(avg_cur_target_grids)\n",
    "    avg_cur_largest_acq_val = avg_cur_target_grids[cur_largest_sol_idx]\n",
    "    var_cur_largest_acq_val = var_cur_target_grids[cur_largest_sol_idx]\n",
    "    \n",
    "    # finding second largest index\n",
    "    cur_sec_sol_index = 0\n",
    "    for index in range(len(avg_cur_target_grids)):\n",
    "        if(avg_cur_target_grids[index] != avg_cur_largest_acq_val):\n",
    "            cur_sec_sol_index = index if avg_cur_target_grids[index] > avg_cur_target_grids[cur_sec_sol_index] else cur_sec_sol_index\n",
    "        \n",
    "    avg_cur_largest_acq_val_sec = avg_cur_target_grids[cur_sec_sol_index]\n",
    "    var_cur_largest_acq_val_sec = var_cur_target_grids[cur_sec_sol_index]\n",
    "    print(\"average: %f, variance: %f, at x %s\"%(avg_cur_largest_acq_val, var_cur_largest_acq_val, cur_largest_sol_idx))\n",
    "    info[i] = {'avg' : avg_cur_largest_acq_val, 'val' : var_cur_largest_acq_val, 'idx': cur_largest_sol_idx}"
   ]
  },
  {
   "cell_type": "code",
   "execution_count": 161,
   "metadata": {},
   "outputs": [],
   "source": [
    "iter_dict_list = []\n",
    "iter_dict_sec_list = []\n",
    "for iter_num in range(0,29):\n",
    "    info = dict()\n",
    "    info_sec = dict()\n",
    "    for i in range(1,201):\n",
    "        cur_target_grids = list(acq_grids[iter_num][:i])\n",
    "        avg_cur_target_grids = np.average(cur_target_grids, axis=0)\n",
    "        var_cur_target_grids = np.var(cur_target_grids,axis=0)\n",
    "        cur_largest_sol_idx = np.argmax(avg_cur_target_grids)\n",
    "        avg_cur_largest_acq_val = avg_cur_target_grids[cur_largest_sol_idx]\n",
    "        var_cur_largest_acq_val = var_cur_target_grids[cur_largest_sol_idx]\n",
    "        # finding second largest index\n",
    "        cur_sec_sol_index = 0\n",
    "        for index in range(len(avg_cur_target_grids)):\n",
    "            if(index != cur_largest_sol_idx):\n",
    "                cur_sec_sol_index = index if avg_cur_target_grids[index] > avg_cur_target_grids[cur_sec_sol_index] else cur_sec_sol_index\n",
    "        \n",
    "        avg_cur_largest_acq_val_sec = avg_cur_target_grids[cur_sec_sol_index]\n",
    "        var_cur_largest_acq_val_sec = var_cur_target_grids[cur_sec_sol_index]\n",
    "        \n",
    "        \n",
    "        info[i] = {'avg' : avg_cur_largest_acq_val, 'var' : var_cur_largest_acq_val, 'idx': cur_largest_sol_idx}\n",
    "        info_sec[i] = {'avg' : avg_cur_largest_acq_val_sec, 'var' : var_cur_largest_acq_val_sec, 'idx': cur_sec_sol_index}\n",
    "        \n",
    "    iter_dict_list.append(info)\n",
    "    iter_dict_sec_list.append(info_sec)\n",
    "        "
   ]
  },
  {
   "cell_type": "code",
   "execution_count": 164,
   "metadata": {},
   "outputs": [],
   "source": [
    "avg_val_list = []\n",
    "var_val_list = []\n",
    "idx_acq_list = []\n",
    "\n",
    "avg_val_list_2 = []\n",
    "var_val_list_2 = []\n",
    "idx_acq_list_2 = []\n",
    "\n",
    "for i in range(1,len(iter_dict_list[0])+1):\n",
    "    avg_val_list.append(iter_dict_list[0][i]['avg'])\n",
    "    var_val_list.append(iter_dict_list[0][i]['var'])\n",
    "    idx_acq_list.append(iter_dict_list[0][i]['idx'])\n",
    "    \n",
    "    avg_val_list_2.append(iter_dict_sec_list[0][i]['avg'])\n",
    "    var_val_list_2.append(iter_dict_sec_list[0][i]['var'])\n",
    "    idx_acq_list_2.append(iter_dict_sec_list[0][i]['idx'])\n",
    "\n"
   ]
  },
  {
   "cell_type": "code",
   "execution_count": 168,
   "metadata": {},
   "outputs": [],
   "source": [
    "iter_avg_val = []\n",
    "iter_var_val = []\n",
    "iter_idx_acq = []\n",
    "\n",
    "iter_avg_val_2 = []\n",
    "iter_var_val_2 = []\n",
    "iter_idx_acq_2 = []\n",
    "\n",
    "for iter_num in range(len(iter_dict_list)):\n",
    "    avg_val_list = []\n",
    "    var_val_list = []\n",
    "    idx_acq_list = []\n",
    "    \n",
    "    avg_val_list_2 = []\n",
    "    var_val_list_2 = []\n",
    "    idx_acq_list_2 = []\n",
    "    \n",
    "    for i in range(1,len(iter_dict_list[iter_num])+1):\n",
    "        avg_val_list.append(iter_dict_list[iter_num][i]['avg'])\n",
    "        var_val_list.append(iter_dict_list[iter_num][i]['var'])\n",
    "        idx_acq_list.append(iter_dict_list[iter_num][i]['idx'])\n",
    "        \n",
    "        avg_val_list_2.append(iter_dict_sec_list[iter_num][i]['avg'])\n",
    "        var_val_list_2.append(iter_dict_sec_list[iter_num][i]['var'])\n",
    "        idx_acq_list_2.append(iter_dict_sec_list[iter_num][i]['idx'])\n",
    "            \n",
    "    iter_avg_val.append(avg_val_list)\n",
    "    iter_var_val.append(var_val_list)\n",
    "    iter_idx_acq.append(idx_acq_list)\n",
    "    \n",
    "    iter_avg_val_2.append(avg_val_list_2)\n",
    "    iter_var_val_2.append(var_val_list_2)\n",
    "    iter_idx_acq_2.append(idx_acq_list_2)\n",
    "\n",
    "                      "
   ]
  },
  {
   "cell_type": "code",
   "execution_count": null,
   "metadata": {},
   "outputs": [],
   "source": []
  },
  {
   "cell_type": "markdown",
   "metadata": {},
   "source": [
    "### Exporting it to Excel"
   ]
  },
  {
   "cell_type": "code",
   "execution_count": 171,
   "metadata": {},
   "outputs": [],
   "source": [
    "import pandas as pd"
   ]
  },
  {
   "cell_type": "code",
   "execution_count": 172,
   "metadata": {},
   "outputs": [],
   "source": [
    "df = pd.DataFrame(data=list(zip(iter_avg_val[0], iter_var_val[0], iter_idx_acq[0],\n",
    "                               [mapped_grids[0][idx][0] for idx in iter_idx_acq[0]],\n",
    "                               [mapped_grids[0][idx][1] for idx in iter_idx_acq[0]],\n",
    "                               [mapped_grids[0][idx][2] for idx in iter_idx_acq[0]],\n",
    "                               [mapped_grids[0][idx][3] for idx in iter_idx_acq[0]],\n",
    "                               [\"\" for idx in iter_idx_acq[0]],\n",
    "                               iter_avg_val_2[0], iter_var_val_2[0],iter_idx_acq_2[0],\n",
    "                               [mapped_grids[0][idx][0] for idx in iter_idx_acq_2[0]],\n",
    "                               [mapped_grids[0][idx][1] for idx in iter_idx_acq_2[0]],\n",
    "                               [mapped_grids[0][idx][2] for idx in iter_idx_acq_2[0]],\n",
    "                               [mapped_grids[0][idx][3] for idx in iter_idx_acq_2[0]])),columns=['Avg', 'Var', 'Idx','x1','x2','x3','x4','','Avg', 'Var', 'Idx','x1','x2','x3','x4'])\n"
   ]
  },
  {
   "cell_type": "code",
   "execution_count": 182,
   "metadata": {},
   "outputs": [],
   "source": [
    "for iter_num in range(0,len(iter_avg_val)):\n",
    "    df = pd.DataFrame(data=list(zip(iter_avg_val[iter_num], iter_var_val[iter_num], iter_idx_acq[iter_num],\n",
    "                               [mapped_grids[iter_num][idx][0] for idx in iter_idx_acq[iter_num]],\n",
    "                               [mapped_grids[iter_num][idx][1] for idx in iter_idx_acq[iter_num]],\n",
    "                               [mapped_grids[iter_num][idx][2] for idx in iter_idx_acq[iter_num]],\n",
    "                               [mapped_grids[iter_num][idx][3] for idx in iter_idx_acq[iter_num]],\n",
    "                               [\"\" for idx in iter_idx_acq[iter_num]],\n",
    "                               iter_avg_val_2[iter_num], iter_var_val_2[iter_num],iter_idx_acq_2[iter_num],\n",
    "                               [mapped_grids[iter_num][idx][0] for idx in iter_idx_acq_2[iter_num]],\n",
    "                               [mapped_grids[iter_num][idx][1] for idx in iter_idx_acq_2[iter_num]],\n",
    "                               [mapped_grids[iter_num][idx][2] for idx in iter_idx_acq_2[iter_num]],\n",
    "                               [mapped_grids[iter_num][idx][3] for idx in iter_idx_acq_2[iter_num]])),columns=['Avg', 'Var', 'Idx','x1','x2','x3','x4','','Avg', 'Var', 'Idx','x1','x2','x3','x4'])\n",
    "    \n",
    "    df.to_excel(\"%s\\\\info_%d.xlsx\"%(file_path,iter_num+5))\n"
   ]
  },
  {
   "cell_type": "code",
   "execution_count": 179,
   "metadata": {},
   "outputs": [
    {
     "data": {
      "text/plain": [
       "29"
      ]
     },
     "execution_count": 179,
     "metadata": {},
     "output_type": "execute_result"
    }
   ],
   "source": [
    "iter_num"
   ]
  },
  {
   "cell_type": "code",
   "execution_count": 180,
   "metadata": {},
   "outputs": [
    {
     "ename": "IndexError",
     "evalue": "list index out of range",
     "output_type": "error",
     "traceback": [
      "\u001b[1;31m---------------------------------------------------------------------------\u001b[0m",
      "\u001b[1;31mIndexError\u001b[0m                                Traceback (most recent call last)",
      "\u001b[1;32m<ipython-input-180-614074debaea>\u001b[0m in \u001b[0;36m<module>\u001b[1;34m()\u001b[0m\n\u001b[1;32m----> 1\u001b[1;33m \u001b[0miter_avg_val\u001b[0m\u001b[1;33m[\u001b[0m\u001b[0miter_num\u001b[0m\u001b[1;33m]\u001b[0m\u001b[1;33m\u001b[0m\u001b[0m\n\u001b[0m",
      "\u001b[1;31mIndexError\u001b[0m: list index out of range"
     ]
    }
   ],
   "source": [
    "iter_avg_val[iter_num]"
   ]
  },
  {
   "cell_type": "code",
   "execution_count": 181,
   "metadata": {},
   "outputs": [
    {
     "data": {
      "text/plain": [
       "29"
      ]
     },
     "execution_count": 181,
     "metadata": {},
     "output_type": "execute_result"
    }
   ],
   "source": [
    "len(iter_avg_val)"
   ]
  },
  {
   "cell_type": "code",
   "execution_count": null,
   "metadata": {},
   "outputs": [],
   "source": []
  }
 ],
 "metadata": {
  "kernelspec": {
   "display_name": "Python 2",
   "language": "python",
   "name": "python2"
  },
  "language_info": {
   "codemirror_mode": {
    "name": "ipython",
    "version": 2
   },
   "file_extension": ".py",
   "mimetype": "text/x-python",
   "name": "python",
   "nbconvert_exporter": "python",
   "pygments_lexer": "ipython2",
   "version": "2.7.17"
  }
 },
 "nbformat": 4,
 "nbformat_minor": 2
}
