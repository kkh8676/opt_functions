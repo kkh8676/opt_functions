{
 "cells": [
  {
   "cell_type": "code",
   "execution_count": 1,
   "metadata": {},
   "outputs": [],
   "source": [
    "import pymongo\n",
    "from spearmint.utils import compression\n",
    "from spearmint.utils import functions\n",
    "import matplotlib.pyplot as plt\n",
    "import numpy as np\n",
    "import seaborn as sns\n",
    "from spearmint.tasks import input_space\n",
    "sns.set()"
   ]
  },
  {
   "cell_type": "code",
   "execution_count": 2,
   "metadata": {},
   "outputs": [],
   "source": [
    "mongo_conn = pymongo.MongoClient('127.0.0.1',27017)\n",
    "mongo_conn.list_database_names()\n",
    "\n",
    "mongo_db = mongo_conn['spearmint']"
   ]
  },
  {
   "cell_type": "code",
   "execution_count": 3,
   "metadata": {},
   "outputs": [],
   "source": [
    "collection_list = mongo_db.list_collection_names()"
   ]
  },
  {
   "cell_type": "code",
   "execution_count": 4,
   "metadata": {},
   "outputs": [],
   "source": [
    "exp_name = 'sep_simple'"
   ]
  },
  {
   "cell_type": "code",
   "execution_count": 5,
   "metadata": {},
   "outputs": [],
   "source": [
    "jobs_initial5_Mk10_Mj1_EI_exp = []\n",
    "jobs_initial5_Mk50_Mj1_EI_exp = []\n",
    "\n",
    "\n",
    "recomm_initial5_Mk10_Mj1_EI_exp = []\n",
    "recomm_initial5_Mk50_Mj1_EI_exp = []\n",
    "\n",
    "\n",
    "for i in range(25):\n",
    "    if \"%s_initial5_Mk10_Mj1_EI-%d.jobs\"%(exp_name,i) in collection_list: jobs_initial5_Mk10_Mj1_EI_exp.append(mongo_db[\"%s_initial5_Mk10_Mj1_EI-%d.jobs\"%(exp_name,i)]) \n",
    "    \n",
    "    if \"%s_initial5_Mk50_Mj1_EI-%d.jobs\"%(exp_name,i) in collection_list: jobs_initial5_Mk50_Mj1_EI_exp.append(mongo_db[\"%s_initial5_Mk50_Mj1_EI-%d.jobs\"%(exp_name,i)]) \n",
    "    \n",
    "        \n",
    "    if \"%s_initial5_Mk10_Mj1_EI-%d.recommendations\"%(exp_name,i) in collection_list: recomm_initial5_Mk10_Mj1_EI_exp.append(mongo_db[\"%s_initial5_Mk10_Mj1_EI-%d.recommendations\"%(exp_name,i)]) \n",
    "    \n",
    "    if \"%s_initial5_Mk50_Mj1_EI-%d.recommendations\"%(exp_name,i) in collection_list: recomm_initial5_Mk50_Mj1_EI_exp.append(mongo_db[\"%s_initial5_Mk50_Mj1_EI-%d.recommendations\"%(exp_name,i)]) \n",
    "    "
   ]
  },
  {
   "cell_type": "code",
   "execution_count": 7,
   "metadata": {},
   "outputs": [],
   "source": [
    "jobs_initial5_Mk10_Mj1_PES_exp = []\n",
    "\n",
    "jobs_initial5_Mk50_Mj1_PES_exp = []\n",
    "\n",
    "\n",
    "recomm_initial5_Mk10_Mj1_PES_exp = []\n",
    "\n",
    "recomm_initial5_Mk50_Mj1_PES_exp = []\n",
    "\n",
    "\n",
    "for i in range(25):\n",
    "    if \"%s_initial5_Mk10_Mj1-%d.jobs\"%(exp_name,i) in collection_list: jobs_initial5_Mk10_Mj1_PES_exp.append(mongo_db[\"%s_initial5_Mk10_Mj1-%d.jobs\"%(exp_name,i)]) \n",
    "    \n",
    "    \n",
    "    if \"%s_initial5_Mk50_Mj1-%d.jobs\"%(exp_name,i) in collection_list: jobs_initial5_Mk50_Mj1_PES_exp.append(mongo_db[\"%s_initial5_Mk50_Mj1-%d.jobs\"%(exp_name,i)]) \n",
    "    \n",
    "        \n",
    "    if \"%s_initial5_Mk10_Mj1-%d.recommendations\"%(exp_name,i) in collection_list: recomm_initial5_Mk10_Mj1_PES_exp.append(mongo_db[\"%s_initial5_Mk10_Mj1-%d.recommendations\"%(exp_name,i)]) \n",
    "    \n",
    "    \n",
    "    if \"%s_initial5_Mk50_Mj1-%d.recommendations\"%(exp_name,i) in collection_list: recomm_initial5_Mk50_Mj1_PES_exp.append(mongo_db[\"%s_initial5_Mk50_Mj1-%d.recommendations\"%(exp_name,i)]) \n",
    "    "
   ]
  },
  {
   "cell_type": "code",
   "execution_count": 8,
   "metadata": {},
   "outputs": [],
   "source": [
    "noise001_jobs_initial5_Mk10_Mj1_EI_exp = []\n",
    "noise01_jobs_initial5_Mk10_Mj1_EI_exp = []\n",
    "\n",
    "\n",
    "noise001_recomm_initial5_Mk10_Mj1_EI_exp = []\n",
    "noise01_recomm_initial5_Mk10_Mj1_EI_exp = []\n",
    "\n",
    "\n",
    "for i in range(25):\n",
    "    if \"%s_noise001_initial5_Mk10_Mj1_EI-%d.jobs\"%(exp_name,i) in collection_list: noise001_jobs_initial5_Mk10_Mj1_EI_exp.append(mongo_db[\"%s_noise001_initial5_Mk10_Mj1_EI-%d.jobs\"%(exp_name,i)]) \n",
    "    if \"%s_noise01_initial5_Mk10_Mj1_EI-%d.jobs\"%(exp_name,i) in collection_list: noise01_jobs_initial5_Mk10_Mj1_EI_exp.append(mongo_db[\"%s_noise01_initial5_Mk10_Mj1_EI-%d.jobs\"%(exp_name,i)]) \n",
    "        \n",
    "    if \"%s_noise001_initial5_Mk10_Mj1_EI-%d.recommendations\"%(exp_name,i) in collection_list: noise001_recomm_initial5_Mk10_Mj1_EI_exp.append(mongo_db[\"%s_noise001_initial5_Mk10_Mj1_EI-%d.recommendations\"%(exp_name,i)]) \n",
    "    if \"%s_noise01_initial5_Mk10_Mj1_EI-%d.recommendations\"%(exp_name,i) in collection_list: noise01_recomm_initial5_Mk10_Mj1_EI_exp.append(mongo_db[\"%s_noise01_initial5_Mk10_Mj1_EI-%d.recommendations\"%(exp_name,i)]) "
   ]
  },
  {
   "cell_type": "code",
   "execution_count": 15,
   "metadata": {},
   "outputs": [],
   "source": [
    "noise001_jobs_initial5_Mk10_Mj1_PES_exp = []\n",
    "noise01_jobs_initial5_Mk10_Mj1_PES_exp = []\n",
    "\n",
    "\n",
    "noise001_recomm_initial5_Mk10_Mj1_PES_exp = []\n",
    "noise01_recomm_initial5_Mk10_Mj1_PES_exp = []\n",
    "\n",
    "\n",
    "for i in range(25):\n",
    "    if \"%s__noise001_initial5_Mk10_Mj1_PES-%d.jobs\"%(exp_name,i) in collection_list: noise001_jobs_initial5_Mk10_Mj1_PES_exp.append(mongo_db[\"%s__noise001_initial5_Mk10_Mj1_PES-%d.jobs\"%(exp_name,i)]) \n",
    "    if \"%s__noise01_initial5_Mk10_Mj1_PES-%d.jobs\"%(exp_name,i) in collection_list: noise01_jobs_initial5_Mk10_Mj1_PES_exp.append(mongo_db[\"%s__noise01_initial5_Mk10_Mj1_PES-%d.jobs\"%(exp_name,i)]) \n",
    "        \n",
    "    if \"%s__noise001_initial5_Mk10_Mj1_PES-%d.recommendations\"%(exp_name,i) in collection_list: noise001_recomm_initial5_Mk10_Mj1_PES_exp.append(mongo_db[\"%s__noise001_initial5_Mk10_Mj1_PES-%d.recommendations\"%(exp_name,i)]) \n",
    "    if \"%s__noise01_initial5_Mk10_Mj1_PES-%d.recommendations\"%(exp_name,i) in collection_list: noise01_recomm_initial5_Mk10_Mj1_PES_exp.append(mongo_db[\"%s__noise01_initial5_Mk10_Mj1_PES-%d.recommendations\"%(exp_name,i)]) "
   ]
  },
  {
   "cell_type": "markdown",
   "metadata": {},
   "source": [
    "### GP Hedge version"
   ]
  },
  {
   "cell_type": "code",
   "execution_count": 60,
   "metadata": {},
   "outputs": [],
   "source": [
    "jobs_initial5_Mk10_Mj1_GP_Hedge_EI_PES_exp = []\n",
    "\n",
    "recomm_initial5_Mk10_Mj1_GP_Hedge_EI_PES_exp = []\n",
    "\n",
    "\n",
    "for i in range(25):\n",
    "    \n",
    "    if \"%s_initial5_Mk10_Mj1_GP_Hedge_EI_PES-%d.jobs\"%(exp_name,i) in collection_list: jobs_initial5_Mk10_Mj1_GP_Hedge_EI_PES_exp.append(mongo_db[\"%s_initial5_Mk10_Mj1_GP_Hedge_EI_PES-%d.jobs\"%(exp_name,i)]) \n",
    "     \n",
    "    if \"%s_initial5_Mk10_Mj1_GP_Hedge_EI_PES-%d.recommendations\"%(exp_name,i) in collection_list: recomm_initial5_Mk10_Mj1_GP_Hedge_EI_PES_exp.append(mongo_db[\"%s_initial5_Mk10_Mj1_GP_Hedge_EI_PES-%d.recommendations\"%(exp_name,i)]) \n",
    "    \n",
    "    "
   ]
  },
  {
   "cell_type": "markdown",
   "metadata": {},
   "source": [
    "## Get objective method gets the predicted optimal value in GP model"
   ]
  },
  {
   "cell_type": "code",
   "execution_count": 18,
   "metadata": {},
   "outputs": [],
   "source": [
    "locs_initial5_Mk10_Mj1_EI_exp = functions.get_recomm_loc(recomm_initial5_Mk10_Mj1_EI_exp)\n",
    "\n",
    "locs_initial5_Mk50_Mj1_EI_exp = functions.get_recomm_loc(recomm_initial5_Mk50_Mj1_EI_exp)"
   ]
  },
  {
   "cell_type": "code",
   "execution_count": 19,
   "metadata": {},
   "outputs": [],
   "source": [
    "locs_initial5_Mk10_Mj1_PES_exp = functions.get_recomm_loc(recomm_initial5_Mk10_Mj1_PES_exp)\n",
    "\n",
    "\n",
    "locs_initial5_Mk50_Mj1_PES_exp = functions.get_recomm_loc(recomm_initial5_Mk50_Mj1_PES_exp)\n"
   ]
  },
  {
   "cell_type": "code",
   "execution_count": 20,
   "metadata": {},
   "outputs": [],
   "source": [
    "noise001_locs_initial5_Mk10_Mj1_EI_exp = functions.get_recomm_loc(noise001_recomm_initial5_Mk10_Mj1_EI_exp)\n",
    "noise01_locs_initial5_Mk10_Mj1_EI_exp = functions.get_recomm_loc(noise01_recomm_initial5_Mk10_Mj1_EI_exp)"
   ]
  },
  {
   "cell_type": "code",
   "execution_count": 21,
   "metadata": {},
   "outputs": [],
   "source": [
    "noise001_locs_initial5_Mk10_Mj1_PES_exp = functions.get_recomm_loc(noise001_recomm_initial5_Mk10_Mj1_PES_exp)\n",
    "noise01_locs_initial5_Mk10_Mj1_PES_exp = functions.get_recomm_loc(noise01_recomm_initial5_Mk10_Mj1_PES_exp)"
   ]
  },
  {
   "cell_type": "code",
   "execution_count": 62,
   "metadata": {},
   "outputs": [],
   "source": [
    "locs_initial5_Mk10_Mj1_GP_Hedge_EI_PES_exp = functions.get_recomm_loc(recomm_initial5_Mk10_Mj1_GP_Hedge_EI_PES_exp)"
   ]
  },
  {
   "cell_type": "markdown",
   "metadata": {},
   "source": [
    "## Getting immediate Regret IR measure"
   ]
  },
  {
   "cell_type": "code",
   "execution_count": 33,
   "metadata": {},
   "outputs": [],
   "source": [
    "import numpy as np\n",
    "import math\n",
    "\n",
    "def branin(x, y):\n",
    "\n",
    "    result = np.square(y - (5.1/(4*np.square(math.pi)))*np.square(x) + \n",
    "         (5/math.pi)*x - 6) + 10*(1-(1./(8*math.pi)))*np.cos(x) + 10\n",
    "    \n",
    "    result = float(result)\n",
    "    \n",
    "    #print 'Result = %f' % result\n",
    "    #time.sleep(np.random.randint(60))\n",
    "    #mu, var = 0.0, 1e-2\n",
    "    return result"
   ]
  },
  {
   "cell_type": "code",
   "execution_count": 23,
   "metadata": {},
   "outputs": [],
   "source": [
    "opt_val = 0.397887"
   ]
  },
  {
   "cell_type": "code",
   "execution_count": 30,
   "metadata": {},
   "outputs": [],
   "source": [
    "def get_sugg_obj_exp(locs_exp):\n",
    "    obj_exp = []\n",
    "    for exp_num in range(len(locs_exp)):\n",
    "        objs_iter = []\n",
    "        locs_cur_exp = locs_exp[exp_num]\n",
    "        \n",
    "        for idx in range(len(locs_exp[exp_num])):\n",
    "            objs_iter.append(branin(*locs_cur_exp[idx]))\n",
    "            \n",
    "        obj_exp.append(objs_iter)\n",
    "        \n",
    "    return obj_exp"
   ]
  },
  {
   "cell_type": "code",
   "execution_count": 31,
   "metadata": {},
   "outputs": [],
   "source": [
    "def log_ir(input_list):\n",
    "    return np.log10(np.abs(opt_val - branin(*input_list)))"
   ]
  },
  {
   "cell_type": "code",
   "execution_count": 26,
   "metadata": {},
   "outputs": [],
   "source": [
    "def get_irs_whole_exp(locs_exp):\n",
    "    irs_exp = []\n",
    "    for exp_num in range(len(locs_exp)):\n",
    "        irs_iter = []\n",
    "        locs_cur_exp = locs_exp[exp_num]\n",
    "        \n",
    "        for idx in range(len(locs_exp[0])):\n",
    "            \n",
    "            irs_iter.append(log_ir(locs_cur_exp[idx]))\n",
    "            \n",
    "        irs_exp.append(irs_iter)\n",
    "        \n",
    "    return irs_exp"
   ]
  },
  {
   "cell_type": "code",
   "execution_count": 27,
   "metadata": {},
   "outputs": [],
   "source": [
    "def get_avg_irs(irs_exp):\n",
    "    avg_irs = []\n",
    "    for iter_num in range(len(irs_exp[0])):\n",
    "        cur_iter_irs = []\n",
    "        for exp_num in range(len(irs_exp)):\n",
    "            cur_iter_irs.append(irs_exp[exp_num][iter_num])\n",
    "            \n",
    "        avg_irs.append(np.average(cur_iter_irs))\n",
    "        \n",
    "    return avg_irs\n"
   ]
  },
  {
   "cell_type": "code",
   "execution_count": 28,
   "metadata": {},
   "outputs": [],
   "source": [
    "def get_median_irs(irs_exp):\n",
    "    median_irs = []\n",
    "    for iter_num in range(len(irs_exp[0])):\n",
    "        cur_iter_irs = []\n",
    "        for exp_num in range(len(irs_exp)):\n",
    "            cur_iter_irs.append(irs_exp[exp_num][iter_num])\n",
    "        \n",
    "        median_irs.append(np.median(cur_iter_irs))\n",
    "        \n",
    "    return median_irs\n",
    "\n"
   ]
  },
  {
   "cell_type": "code",
   "execution_count": 29,
   "metadata": {},
   "outputs": [],
   "source": [
    "def get_std_err_irs(irs_exp):\n",
    "    std_err_irs = []\n",
    "    for iter_num in range(len(irs_exp[0])):\n",
    "        cur_iter_irs = []\n",
    "        for exp_num in range(len(irs_exp)):\n",
    "            cur_iter_irs.append(irs_exp[exp_num][iter_num])\n",
    "            \n",
    "        std_err_irs.append(np.std(cur_iter_irs))\n",
    "        \n",
    "    return std_err_irs"
   ]
  },
  {
   "cell_type": "markdown",
   "metadata": {},
   "source": [
    "## Getting the 'real' value of functions at suggested locations"
   ]
  },
  {
   "cell_type": "code",
   "execution_count": 34,
   "metadata": {},
   "outputs": [],
   "source": [
    "sugg_obj_initial5_Mk10_Mj1_EI_exp = get_sugg_obj_exp(locs_initial5_Mk10_Mj1_EI_exp)\n",
    "\n",
    "sugg_obj_initial5_Mk50_Mj1_EI_exp = get_sugg_obj_exp(locs_initial5_Mk50_Mj1_EI_exp)"
   ]
  },
  {
   "cell_type": "code",
   "execution_count": 35,
   "metadata": {},
   "outputs": [],
   "source": [
    "sugg_obj_initial5_Mk10_Mj1_PES_exp = get_sugg_obj_exp(locs_initial5_Mk10_Mj1_PES_exp)\n",
    "\n",
    "sugg_obj_initial5_Mk50_Mj1_PES_exp = get_sugg_obj_exp(locs_initial5_Mk50_Mj1_PES_exp)\n"
   ]
  },
  {
   "cell_type": "code",
   "execution_count": 63,
   "metadata": {},
   "outputs": [],
   "source": [
    "sugg_obj_initial5_Mk10_Mj1_GP_Hedge_EI_PES_exp = get_sugg_obj_exp(locs_initial5_Mk10_Mj1_GP_Hedge_EI_PES_exp)"
   ]
  },
  {
   "cell_type": "code",
   "execution_count": 36,
   "metadata": {},
   "outputs": [],
   "source": [
    "noise001_sugg_obj_initial5_Mk10_Mj1_EI_exp = get_sugg_obj_exp(noise001_locs_initial5_Mk10_Mj1_EI_exp)\n",
    "noise01_sugg_obj_initial5_Mk10_Mj1_EI_exp = get_sugg_obj_exp(noise01_locs_initial5_Mk10_Mj1_EI_exp)"
   ]
  },
  {
   "cell_type": "code",
   "execution_count": 37,
   "metadata": {},
   "outputs": [],
   "source": [
    "noise001_sugg_obj_initial5_Mk10_Mj1_PES_exp = get_sugg_obj_exp(noise001_locs_initial5_Mk10_Mj1_PES_exp)\n",
    "noise01_sugg_obj_initial5_Mk10_Mj1_PES_exp = get_sugg_obj_exp(noise01_locs_initial5_Mk10_Mj1_PES_exp)"
   ]
  },
  {
   "cell_type": "markdown",
   "metadata": {},
   "source": [
    "## Averaging values of each experiments"
   ]
  },
  {
   "cell_type": "code",
   "execution_count": 38,
   "metadata": {},
   "outputs": [],
   "source": [
    "avg_sugg_obj_initial5_Mk10_Mj1_EI = np.average(sugg_obj_initial5_Mk10_Mj1_EI_exp, axis=0)\n",
    "avg_sugg_obj_initial5_Mk50_Mj1_EI = np.average(sugg_obj_initial5_Mk50_Mj1_EI_exp, axis=0)"
   ]
  },
  {
   "cell_type": "code",
   "execution_count": 39,
   "metadata": {},
   "outputs": [],
   "source": [
    "avg_sugg_obj_initial5_Mk10_Mj1_PES = np.average(sugg_obj_initial5_Mk10_Mj1_PES_exp, axis=0)\n",
    "avg_sugg_obj_initial5_Mk50_Mj1_PES = np.average(sugg_obj_initial5_Mk50_Mj1_PES_exp, axis=0)"
   ]
  },
  {
   "cell_type": "code",
   "execution_count": 64,
   "metadata": {},
   "outputs": [],
   "source": [
    "avg_sugg_obj_initial5_Mk10_Mj1_GP_Hedge_EI_PES = np.average(sugg_obj_initial5_Mk10_Mj1_GP_Hedge_EI_PES_exp, axis=0)"
   ]
  },
  {
   "cell_type": "code",
   "execution_count": 40,
   "metadata": {},
   "outputs": [],
   "source": [
    "noise001_avg_sugg_obj_initial5_Mk10_Mj1_EI = np.average(noise001_sugg_obj_initial5_Mk10_Mj1_EI_exp, axis=0)\n",
    "noise01_avg_sugg_obj_initial5_Mk10_Mj1_EI = np.average(noise01_sugg_obj_initial5_Mk10_Mj1_EI_exp, axis=0)"
   ]
  },
  {
   "cell_type": "code",
   "execution_count": 41,
   "metadata": {},
   "outputs": [],
   "source": [
    "noise001_avg_sugg_obj_initial5_Mk10_Mj1_PES = np.average(noise001_sugg_obj_initial5_Mk10_Mj1_PES_exp, axis=0)\n",
    "noise01_avg_sugg_obj_initial5_Mk10_Mj1_PES = np.average(noise01_sugg_obj_initial5_Mk10_Mj1_PES_exp, axis=0)"
   ]
  },
  {
   "cell_type": "markdown",
   "metadata": {},
   "source": [
    "## Getting IR valus for look optimization performances"
   ]
  },
  {
   "cell_type": "code",
   "execution_count": 42,
   "metadata": {},
   "outputs": [],
   "source": [
    "irs_initial5_Mk10_Mj1_EI_exp = get_irs_whole_exp(locs_initial5_Mk10_Mj1_EI_exp)\n",
    "\n",
    "irs_initial5_Mk50_Mj1_EI_exp = get_irs_whole_exp(locs_initial5_Mk50_Mj1_EI_exp)\n"
   ]
  },
  {
   "cell_type": "code",
   "execution_count": 44,
   "metadata": {},
   "outputs": [],
   "source": [
    "irs_initial5_Mk10_Mj1_PES_exp = get_irs_whole_exp(locs_initial5_Mk10_Mj1_PES_exp)\n",
    "irs_initial5_Mk50_Mj1_PES_exp = get_irs_whole_exp(locs_initial5_Mk50_Mj1_PES_exp)"
   ]
  },
  {
   "cell_type": "code",
   "execution_count": 65,
   "metadata": {},
   "outputs": [],
   "source": [
    "irs_initial5_Mk10_Mj1_Gp_Hedge_EI_PES_exp = get_irs_whole_exp(locs_initial5_Mk10_Mj1_GP_Hedge_EI_PES_exp)"
   ]
  },
  {
   "cell_type": "code",
   "execution_count": 45,
   "metadata": {},
   "outputs": [],
   "source": [
    "noise01_irs_initial5_Mk10_Mj1_EI_exp = get_irs_whole_exp(noise01_locs_initial5_Mk10_Mj1_EI_exp)\n",
    "noise001_irs_initial5_Mk10_Mj1_EI_exp = get_irs_whole_exp(noise001_locs_initial5_Mk10_Mj1_EI_exp)"
   ]
  },
  {
   "cell_type": "code",
   "execution_count": 46,
   "metadata": {},
   "outputs": [],
   "source": [
    "noise01_irs_initial5_Mk10_Mj1_PES_exp = get_irs_whole_exp(noise01_locs_initial5_Mk10_Mj1_PES_exp)\n",
    "noise001_irs_initial5_Mk10_Mj1_PES_exp = get_irs_whole_exp(noise001_locs_initial5_Mk10_Mj1_PES_exp)"
   ]
  },
  {
   "cell_type": "markdown",
   "metadata": {},
   "source": [
    "## Get averaged and median value of IR"
   ]
  },
  {
   "cell_type": "code",
   "execution_count": 47,
   "metadata": {},
   "outputs": [],
   "source": [
    "irs_initial5_Mk10_Mj1_EI_avg = get_avg_irs(irs_initial5_Mk10_Mj1_EI_exp)\n",
    "irs_initial5_Mk50_Mj1_EI_avg = get_avg_irs(irs_initial5_Mk50_Mj1_EI_exp)"
   ]
  },
  {
   "cell_type": "code",
   "execution_count": 48,
   "metadata": {},
   "outputs": [],
   "source": [
    "irs_initial5_Mk10_Mj1_PES_avg = get_avg_irs(irs_initial5_Mk10_Mj1_PES_exp)\n",
    "irs_initial5_Mk50_Mj1_PES_avg = get_avg_irs(irs_initial5_Mk50_Mj1_PES_exp)"
   ]
  },
  {
   "cell_type": "code",
   "execution_count": 66,
   "metadata": {},
   "outputs": [],
   "source": [
    "irs_initial5_Mk10_Mj1_GP_Hedge_EI_PES_avg = get_avg_irs(irs_initial5_Mk10_Mj1_Gp_Hedge_EI_PES_exp)"
   ]
  },
  {
   "cell_type": "code",
   "execution_count": 49,
   "metadata": {},
   "outputs": [],
   "source": [
    "noise01_irs_initial5_Mk10_Mj1_EI_avg = get_avg_irs(noise01_irs_initial5_Mk10_Mj1_EI_exp)\n",
    "noise001_irs_initial5_Mk10_Mj1_EI_avg = get_avg_irs(noise001_irs_initial5_Mk10_Mj1_EI_exp)"
   ]
  },
  {
   "cell_type": "code",
   "execution_count": 50,
   "metadata": {},
   "outputs": [],
   "source": [
    "noise01_irs_initial5_Mk10_Mj1_PES_avg = get_avg_irs(noise01_irs_initial5_Mk10_Mj1_PES_exp)\n",
    "noise001_irs_initial5_Mk10_Mj1_PES_avg = get_avg_irs(noise001_irs_initial5_Mk10_Mj1_PES_exp)"
   ]
  },
  {
   "cell_type": "code",
   "execution_count": 51,
   "metadata": {},
   "outputs": [],
   "source": [
    "irs_initial5_Mk10_Mj1_EI_median = get_median_irs(irs_initial5_Mk10_Mj1_EI_exp)\n",
    "\n",
    "irs_initial5_Mk50_Mj1_EI_median = get_median_irs(irs_initial5_Mk50_Mj1_EI_exp)\n"
   ]
  },
  {
   "cell_type": "code",
   "execution_count": 52,
   "metadata": {},
   "outputs": [],
   "source": [
    "irs_initial5_Mk10_Mj1_PES_median = get_median_irs(irs_initial5_Mk10_Mj1_PES_exp)\n",
    "irs_initial5_Mk50_Mj1_PES_median = get_median_irs(irs_initial5_Mk50_Mj1_PES_exp)"
   ]
  },
  {
   "cell_type": "code",
   "execution_count": 67,
   "metadata": {},
   "outputs": [],
   "source": [
    "irs_initial5_Mk10_Mj1_GP_Hedge_EI_PES_median = get_median_irs(irs_initial5_Mk10_Mj1_Gp_Hedge_EI_PES_exp)"
   ]
  },
  {
   "cell_type": "code",
   "execution_count": 53,
   "metadata": {},
   "outputs": [],
   "source": [
    "noise01_irs_initial5_Mk10_Mj1_EI_median = get_median_irs(noise01_irs_initial5_Mk10_Mj1_EI_exp)\n",
    "noise001_irs_initial5_Mk10_Mj1_EI_median = get_median_irs(noise001_irs_initial5_Mk10_Mj1_EI_exp)"
   ]
  },
  {
   "cell_type": "code",
   "execution_count": 54,
   "metadata": {},
   "outputs": [],
   "source": [
    "noise01_irs_initial5_Mk10_Mj1_PES_median = get_median_irs(noise01_irs_initial5_Mk10_Mj1_PES_exp)\n",
    "noise001_irs_initial5_Mk10_Mj1_PES_median = get_median_irs(noise001_irs_initial5_Mk10_Mj1_PES_exp)"
   ]
  },
  {
   "cell_type": "markdown",
   "metadata": {},
   "source": [
    "## Plotting the real function value at suggested locations"
   ]
  },
  {
   "cell_type": "markdown",
   "metadata": {},
   "source": [
    "#### Deterministic version"
   ]
  },
  {
   "cell_type": "code",
   "execution_count": 68,
   "metadata": {},
   "outputs": [
    {
     "data": {
      "image/png": "[encoded data removed]",
      "text/plain": [
       "<Figure size 720x504 with 1 Axes>"
      ]
     },
     "metadata": {
      "needs_background": "light"
     },
     "output_type": "display_data"
    }
   ],
   "source": [
    "plt.figure(figsize=(10,7))\n",
    "plt.plot(avg_sugg_obj_initial5_Mk10_Mj1_EI[3:], label=\"Mk10, 5 initial, EI\")\n",
    "plt.plot(avg_sugg_obj_initial5_Mk10_Mj1_PES[3:], label=\"Mk10, 5 initial, PES\")\n",
    "plt.plot(avg_sugg_obj_initial5_Mk10_Mj1_GP_Hedge_EI_PES[3:], label=\"Mk10, 5 initial, GP Hedge with EI, PES\")\n",
    "plt.hlines(opt_val, xmin=0, xmax=30, colors='k')\n",
    "plt.ylim(ymin=0, ymax=20)\n",
    "plt.legend()\n",
    "plt.show()"
   ]
  },
  {
   "cell_type": "markdown",
   "metadata": {},
   "source": [
    "#### Noise with variance 1e-3"
   ]
  },
  {
   "cell_type": "code",
   "execution_count": 58,
   "metadata": {},
   "outputs": [
    {
     "data": {
      "image/png": "[encoded data removed]",
      "text/plain": [
       "<Figure size 720x504 with 1 Axes>"
      ]
     },
     "metadata": {
      "needs_background": "light"
     },
     "output_type": "display_data"
    }
   ],
   "source": [
    "plt.figure(figsize=(10,7))\n",
    "#plt.plot(avg_sugg_obj_initial5_Mk10_Mj1_EI[3:], label=\"Mk10, 5 initial, EI\")\n",
    "plt.plot(noise001_avg_sugg_obj_initial5_Mk10_Mj1_EI[3:], label=\"Mk10, 5 initial, EI with var 1e-3\")\n",
    "#plt.plot(noise01_avg_sugg_obj_initial5_Mk10_Mj1_EI[3:], label=\"Mk10, 5 initial, EI with var 1e-2\")\n",
    "#plt.plot(avg_sugg_obj_initial5_Mk10_Mj1_PES[3:], label=\"Mk10, 5 initial PES\")\n",
    "plt.plot(noise001_avg_sugg_obj_initial5_Mk10_Mj1_PES[3:], label=\"Mk10, 5 initial PES with var 1e-3\")\n",
    "#plt.plot(noise01_avg_sugg_obj_initial5_Mk10_Mj1_PES[3:], label=\"Mk10, 5 initial PES with var 1e-2\")\n",
    "\n",
    "plt.hlines(opt_val, xmin=0, xmax=30, colors='k')\n",
    "plt.ylim(ymin=0, ymax=20)\n",
    "plt.legend()\n",
    "plt.show()"
   ]
  },
  {
   "cell_type": "markdown",
   "metadata": {},
   "source": [
    "#### Noise with variance 1e-2"
   ]
  },
  {
   "cell_type": "code",
   "execution_count": 59,
   "metadata": {},
   "outputs": [
    {
     "data": {
      "image/png": "[encoded data removed]",
      "text/plain": [
       "<Figure size 720x504 with 1 Axes>"
      ]
     },
     "metadata": {
      "needs_background": "light"
     },
     "output_type": "display_data"
    }
   ],
   "source": [
    "plt.figure(figsize=(10,7))\n",
    "#plt.plot(avg_sugg_obj_initial5_Mk10_Mj1_EI[3:], label=\"Mk10, 5 initial, EI\")\n",
    "#plt.plot(noise001_avg_sugg_obj_initial5_Mk10_Mj1_EI[3:], label=\"Mk10, 5 initial, EI with var 1e-3\")\n",
    "plt.plot(noise01_avg_sugg_obj_initial5_Mk10_Mj1_EI[3:], label=\"Mk10, 5 initial, EI with var 1e-2\")\n",
    "#plt.plot(avg_sugg_obj_initial5_Mk10_Mj1_PES[3:], label=\"Mk10, 5 initial PES\")\n",
    "#plt.plot(noise001_avg_sugg_obj_initial5_Mk10_Mj1_PES[3:], label=\"Mk10, 5 initial PES with var 1e-3\")\n",
    "plt.plot(noise01_avg_sugg_obj_initial5_Mk10_Mj1_PES[3:], label=\"Mk10, 5 initial PES with var 1e-2\")\n",
    "\n",
    "plt.hlines(opt_val, xmin=0, xmax=30, colors='k')\n",
    "plt.ylim(ymin=0, ymax=20)\n",
    "plt.legend()\n",
    "plt.show()"
   ]
  },
  {
   "cell_type": "code",
   "execution_count": null,
   "metadata": {},
   "outputs": [],
   "source": []
  }
 ],
 "metadata": {
  "kernelspec": {
   "display_name": "Python 2",
   "language": "python",
   "name": "python2"
  },
  "language_info": {
   "codemirror_mode": {
    "name": "ipython",
    "version": 2
   },
   "file_extension": ".py",
   "mimetype": "text/x-python",
   "name": "python",
   "nbconvert_exporter": "python",
   "pygments_lexer": "ipython2",
   "version": "2.7.18"
  }
 },
 "nbformat": 4,
 "nbformat_minor": 2
}
