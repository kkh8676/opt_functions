{
 "cells": [
  {
   "cell_type": "code",
   "execution_count": 1,
   "metadata": {},
   "outputs": [],
   "source": [
    "import pymongo\n",
    "from spearmint.utils import compression\n",
    "from spearmint.utils import functions\n",
    "import matplotlib.pyplot as plt\n",
    "import numpy as np\n",
    "import seaborn as sns\n",
    "from spearmint.tasks import input_space\n",
    "sns.set()"
   ]
  },
  {
   "cell_type": "code",
   "execution_count": 2,
   "metadata": {},
   "outputs": [],
   "source": [
    "mongo_conn = pymongo.MongoClient('127.0.0.1',27017)\n",
    "mongo_conn.list_database_names()\n",
    "\n",
    "mongo_db = mongo_conn['spearmint']"
   ]
  },
  {
   "cell_type": "code",
   "execution_count": 3,
   "metadata": {},
   "outputs": [],
   "source": [
    "collection_list = mongo_db.list_collection_names()"
   ]
  },
  {
   "cell_type": "code",
   "execution_count": 4,
   "metadata": {},
   "outputs": [],
   "source": [
    "exp_name = 'sep_drop_wave'"
   ]
  },
  {
   "cell_type": "code",
   "execution_count": 5,
   "metadata": {},
   "outputs": [],
   "source": [
    "jobs_initial5_Mk10_Mj1_EI_exp = []\n",
    "jobs_initial5_Mk20_Mj1_EI_exp = []\n",
    "jobs_initial5_Mk50_Mj1_EI_exp = []\n",
    "jobs_initial5_Mk50_Mj1_acqGrid_100_EI_exp = []\n",
    "jobs_initial5_Mk50_Mj1_acqGrid_1000_EI_exp = []\n",
    "jobs_initial5_Mk70_Mj1_EI_exp = []\n",
    "jobs_initial5_Mk200_Mj1_EI_exp = []\n",
    "\n",
    "recomm_initial5_Mk10_Mj1_EI_exp = []\n",
    "recomm_initial5_Mk20_Mj1_EI_exp = []\n",
    "recomm_initial5_Mk50_Mj1_EI_exp = []\n",
    "recomm_initial5_Mk50_Mj1_acqGrid_100_EI_exp = []\n",
    "recomm_initial5_Mk50_Mj1_acqGrid_1000_EI_exp = []\n",
    "recomm_initial5_Mk70_Mj1_EI_exp = []\n",
    "recomm_initial5_Mk200_Mj1_EI_exp = []\n",
    "\n",
    "for i in range(25):\n",
    "    if \"%s_initial5_Mk10_Mj1_EI-%d.jobs\"%(exp_name,i) in collection_list: jobs_initial5_Mk10_Mj1_EI_exp.append(mongo_db[\"%s_initial5_Mk10_Mj1_EI-%d.jobs\"%(exp_name,i)]) \n",
    "    if \"%s_initial5_Mk20_Mj1_EI-%d.jobs\"%(exp_name,i) in collection_list: jobs_initial5_Mk20_Mj1_EI_exp.append(mongo_db[\"%s_initial5_Mk20_Mj1_EI-%d.jobs\"%(exp_name,i)]) \n",
    "    if \"%s_initial5_Mk50_Mj1_EI-%d.jobs\"%(exp_name,i) in collection_list: jobs_initial5_Mk50_Mj1_EI_exp.append(mongo_db[\"%s_initial5_Mk50_Mj1_EI-%d.jobs\"%(exp_name,i)]) \n",
    "    if \"%s_initial5_Mk50_Mj1_acqGrid_100_EI-%d.jobs\"%(exp_name,i) in collection_list: jobs_initial5_Mk50_Mj1_acqGrid_100_EI_exp.append(mongo_db[\"%s_initial5_Mk50_Mj1_acqGrid_100_EI-%d.jobs\"%(exp_name,i)]) \n",
    "    if \"%s_initial5_Mk50_Mj1_acqGrid_1000_EI-%d.jobs\"%(exp_name,i) in collection_list: jobs_initial5_Mk50_Mj1_acqGrid_1000_EI_exp.append(mongo_db[\"%s_initial5_Mk50_Mj1_acqGrid_1000_EI-%d.jobs\"%(exp_name,i)]) \n",
    "    if \"%s_initial5_Mk70_Mj1_EI-%d.jobs\"%(exp_name,i) in collection_list: jobs_initial5_Mk70_Mj1_EI_exp.append(mongo_db[\"%s_initial5_Mk70_Mj1_EI-%d.jobs\"%(exp_name,i)])\n",
    "    if \"%s_initial5_Mk200_Mj1_EI-%d.jobs\"%(exp_name,i) in collection_list: jobs_initial5_Mk200_Mj1_EI_exp.append(mongo_db[\"%s_initial5_Mk200_Mj1_EI-%d.jobs\"%(exp_name,i)])\n",
    "        \n",
    "    if \"%s_initial5_Mk10_Mj1_EI-%d.recommendations\"%(exp_name,i) in collection_list: recomm_initial5_Mk10_Mj1_EI_exp.append(mongo_db[\"%s_initial5_Mk10_Mj1_EI-%d.recommendations\"%(exp_name,i)]) \n",
    "    if \"%s_initial5_Mk20_Mj1_EI-%d.recommendations\"%(exp_name,i) in collection_list: recomm_initial5_Mk20_Mj1_EI_exp.append(mongo_db[\"%s_initial5_Mk20_Mj1_EI-%d.recommendations\"%(exp_name,i)]) \n",
    "    if \"%s_initial5_Mk50_Mj1_EI-%d.recommendations\"%(exp_name,i) in collection_list: recomm_initial5_Mk50_Mj1_EI_exp.append(mongo_db[\"%s_initial5_Mk50_Mj1_EI-%d.recommendations\"%(exp_name,i)]) \n",
    "    if \"%s_initial5_Mk50_Mj1_acqGrid_100_EI-%d.recommendations\"%(exp_name,i) in collection_list: recomm_initial5_Mk50_Mj1_acqGrid_100_EI_exp.append(mongo_db[\"%s_initial5_Mk50_Mj1_acqGrid_100_EI-%d.recommendations\"%(exp_name,i)]) \n",
    "    if \"%s_initial5_Mk50_Mj1_acqGrid_1000_EI-%d.recommendations\"%(exp_name,i) in collection_list: recomm_initial5_Mk50_Mj1_acqGrid_1000_EI_exp.append(mongo_db[\"%s_initial5_Mk50_Mj1_acqGrid_1000_EI-%d.recommendations\"%(exp_name,i)]) \n",
    "    if \"%s_initial5_Mk70_Mj1_EI-%d.recommendations\"%(exp_name,i) in collection_list: recomm_initial5_Mk70_Mj1_EI_exp.append(mongo_db[\"%s_initial5_Mk70_Mj1_EI-%d.recommendations\"%(exp_name,i)])\n",
    "    if \"%s_initial5_Mk200_Mj1_EI-%d.recommendations\"%(exp_name,i) in collection_list: recomm_initial5_Mk200_Mj1_EI_exp.append(mongo_db[\"%s_initial5_Mk200_Mj1_EI-%d.recommendations\"%(exp_name,i)])"
   ]
  },
  {
   "cell_type": "code",
   "execution_count": 6,
   "metadata": {},
   "outputs": [],
   "source": [
    "jobs_initial5_Mk10_Mj1_PES_exp = []\n",
    "jobs_initial5_Mk20_Mj1_PES_exp = []\n",
    "jobs_initial5_Mk30_Mj1_PES_exp = []\n",
    "jobs_initial5_Mk50_Mj1_PES_exp = []\n",
    "jobs_initial5_Mk50_Mj1_acqGrid_100_PES_exp = []\n",
    "jobs_initial5_Mk50_Mj1_acqGrid_1000_PES_exp = []\n",
    "jobs_initial5_Mk100_Mj1_PES_exp = []\n",
    "jobs_initial5_Mk200_Mj1_PES_exp = []\n",
    "\n",
    "recomm_initial5_Mk10_Mj1_PES_exp = []\n",
    "recomm_initial5_Mk20_Mj1_PES_exp = []\n",
    "recomm_initial5_Mk30_Mj1_PES_exp = []\n",
    "recomm_initial5_Mk50_Mj1_PES_exp = []\n",
    "recomm_initial5_Mk50_Mj1_acqGrid_100_PES_exp = []\n",
    "recomm_initial5_Mk50_Mj1_acqGrid_1000_PES_exp = []\n",
    "recomm_initial5_Mk100_Mj1_PES_exp = []\n",
    "recomm_initial5_Mk200_Mj1_PES_exp = []\n",
    "\n",
    "for i in range(25):\n",
    "    if \"%s_initial5_Mk10_Mj1-%d.jobs\"%(exp_name,i) in collection_list: jobs_initial5_Mk10_Mj1_PES_exp.append(mongo_db[\"%s_initial5_Mk10_Mj1-%d.jobs\"%(exp_name,i)]) \n",
    "    if \"%s_initial5_Mk20_Mj1-%d.jobs\"%(exp_name,i) in collection_list: jobs_initial5_Mk20_Mj1_PES_exp.append(mongo_db[\"%s_initial5_Mk20_Mj1-%d.jobs\"%(exp_name,i)]) \n",
    "    if \"%s_initial5_Mk30_Mj1-%d.jobs\"%(exp_name,i) in collection_list: jobs_initial5_Mk30_Mj1_PES_exp.append(mongo_db[\"%s_initial5_Mk30_Mj1-%d.jobs\"%(exp_name,i)]) \n",
    "    if \"%s_initial5_Mk50_Mj1-%d.jobs\"%(exp_name,i) in collection_list: jobs_initial5_Mk50_Mj1_PES_exp.append(mongo_db[\"%s_initial5_Mk50_Mj1-%d.jobs\"%(exp_name,i)]) \n",
    "    if \"%s_initial5_Mk50_Mj1_acqGrid_100-%d.jobs\"%(exp_name,i) in collection_list: jobs_initial5_Mk50_Mj1_acqGrid_100_PES_exp.append(mongo_db[\"%s_initial5_Mk50_Mj1_acqGrid_100-%d.jobs\"%(exp_name,i)]) \n",
    "    if \"%s_initial5_Mk50_Mj1_acqGrid_1000-%d.jobs\"%(exp_name,i) in collection_list: jobs_initial5_Mk50_Mj1_acqGrid_1000_PES_exp.append(mongo_db[\"%s_initial5_Mk50_Mj1_acqGrid_1000-%d.jobs\"%(exp_name,i)]) \n",
    "    if \"%s_initial5_Mk200_Mj1-%d.jobs\"%(exp_name,i) in collection_list: jobs_initial5_Mk200_Mj1_PES_exp.append(mongo_db[\"%s_initial5_Mk200_Mj1-%d.jobs\"%(exp_name,i)])\n",
    "    if \"%s_initial5_Mk100_Mj1-%d.jobs\"%(exp_name,i) in collection_list: jobs_initial5_Mk100_Mj1_PES_exp.append(mongo_db[\"%s_initial5_Mk100_Mj1-%d.jobs\"%(exp_name,i)])\n",
    "        \n",
    "    if \"%s_initial5_Mk10_Mj1-%d.recommendations\"%(exp_name,i) in collection_list: recomm_initial5_Mk10_Mj1_PES_exp.append(mongo_db[\"%s_initial5_Mk10_Mj1-%d.recommendations\"%(exp_name,i)]) \n",
    "    if \"%s_initial5_Mk20_Mj1-%d.recommendations\"%(exp_name,i) in collection_list: recomm_initial5_Mk20_Mj1_PES_exp.append(mongo_db[\"%s_initial5_Mk20_Mj1-%d.recommendations\"%(exp_name,i)]) \n",
    "    if \"%s_initial5_Mk30_Mj1-%d.recommendations\"%(exp_name,i) in collection_list: recomm_initial5_Mk30_Mj1_PES_exp.append(mongo_db[\"%s_initial5_Mk30_Mj1-%d.recommendations\"%(exp_name,i)]) \n",
    "    if \"%s_initial5_Mk50_Mj1-%d.recommendations\"%(exp_name,i) in collection_list: recomm_initial5_Mk50_Mj1_PES_exp.append(mongo_db[\"%s_initial5_Mk50_Mj1-%d.recommendations\"%(exp_name,i)]) \n",
    "    if \"%s_initial5_Mk50_Mj1_acqGrid_100-%d.recommendations\"%(exp_name,i) in collection_list: recomm_initial5_Mk50_Mj1_acqGrid_100_PES_exp.append(mongo_db[\"%s_initial5_Mk50_Mj1_acqGrid_100-%d.recommendations\"%(exp_name,i)]) \n",
    "    if \"%s_initial5_Mk50_Mj1_acqGrid_1000-%d.recommendations\"%(exp_name,i) in collection_list: recomm_initial5_Mk50_Mj1_acqGrid_1000_PES_exp.append(mongo_db[\"%s_initial5_Mk50_Mj1_acqGrid_1000-%d.recommendations\"%(exp_name,i)]) \n",
    "    if \"%s_initial5_Mk200_Mj1-%d.recommendations\"%(exp_name,i) in collection_list: recomm_initial5_Mk200_Mj1_PES_exp.append(mongo_db[\"%s_initial5_Mk200_Mj1-%d.recommendations\"%(exp_name,i)])\n",
    "    if \"%s_initial5_Mk100_Mj1-%d.recommendations\"%(exp_name,i) in collection_list: recomm_initial5_Mk100_Mj1_PES_exp.append(mongo_db[\"%s_initial5_Mk100_Mj1-%d.recommendations\"%(exp_name,i)])"
   ]
  },
  {
   "cell_type": "code",
   "execution_count": 7,
   "metadata": {},
   "outputs": [],
   "source": [
    "jobs_initial5_Mk50_Mj1_PI_exp = []\n",
    "\n",
    "recomm_initial5_Mk50_Mj1_PI_exp = []\n",
    "\n",
    "for i in range(25):\n",
    "    if \"%s_initial5_Mk50_Mj1_PI-%d.jobs\"%(exp_name,i) in collection_list: jobs_initial5_Mk50_Mj1_PI_exp.append(mongo_db[\"%s_initial5_Mk50_Mj1_PI-%d.jobs\"%(exp_name,i)]) \n",
    "        \n",
    "    if \"%s_initial5_Mk50_Mj1_PI-%d.jobs\"%(exp_name,i) in collection_list: recomm_initial5_Mk50_Mj1_PI_exp.append(mongo_db[\"%s_initial5_Mk50_Mj1_PI-%d.jobs\"%(exp_name,i)]) "
   ]
  },
  {
   "cell_type": "code",
   "execution_count": 8,
   "metadata": {},
   "outputs": [],
   "source": [
    "jobs_initial5_Mk50_Mj1_LCB_exp = []\n",
    "jobs_initial5_Mk10_Mj1_LCB_exp = []\n",
    "\n",
    "recomm_initial5_Mk50_Mj1_LCB_exp = []\n",
    "recomm_initial5_Mk10_Mj1_LCB_exp = []\n",
    "\n",
    "for i in range(25):\n",
    "    if \"%s_initial5_Mk50_Mj1_LCB-%d.jobs\"%(exp_name,i) in collection_list: jobs_initial5_Mk50_Mj1_LCB_exp.append(mongo_db[\"%s_initial5_Mk50_Mj1_LCB-%d.jobs\"%(exp_name,i)]) \n",
    "    if \"%s_initial5_Mk10_Mj1_LCB-%d.jobs\"%(exp_name,i) in collection_list: jobs_initial5_Mk10_Mj1_LCB_exp.append(mongo_db[\"%s_initial5_Mk10_Mj1_LCB-%d.jobs\"%(exp_name,i)]) \n",
    "        \n",
    "    if \"%s_initial5_Mk50_Mj1_LCB-%d.jobs\"%(exp_name,i) in collection_list: recomm_initial5_Mk50_Mj1_LCB_exp.append(mongo_db[\"%s_initial5_Mk50_Mj1_LCB-%d.jobs\"%(exp_name,i)]) \n",
    "    if \"%s_initial5_Mk10_Mj1_LCB-%d.jobs\"%(exp_name,i) in collection_list: recomm_initial5_Mk10_Mj1_LCB_exp.append(mongo_db[\"%s_initial5_Mk10_Mj1_LCB-%d.jobs\"%(exp_name,i)]) "
   ]
  },
  {
   "cell_type": "markdown",
   "metadata": {},
   "source": [
    "### GP Hedge version"
   ]
  },
  {
   "cell_type": "code",
   "execution_count": 9,
   "metadata": {},
   "outputs": [],
   "source": [
    "jobs_initial5_Mk50_Mj1_GP_Hedge_4_exp = []\n",
    "jobs_initial5_Mk50_Mj1_GP_Hedge_3_exp = []\n",
    "jobs_initial5_Mk50_Mj1_GP_Hedge_EI_PI_PES_exp = []\n",
    "jobs_initial5_Mk10_Mj1_GP_Hedge_EI_PES_exp = []\n",
    "jobs_initial5_Mk10_Mj1_GP_Hedge_EI_PES_2td_exp = []\n",
    "jobs_initial5_Mk10_Mj1_GP_Hedge_EI_PES_3_7_exp = []\n",
    "\n",
    "recomm_initial5_Mk50_Mj1_GP_Hedge_4_exp = []\n",
    "recomm_initial5_Mk50_Mj1_GP_Hedge_3_exp = []\n",
    "recomm_initial5_Mk50_Mj1_GP_Hedge_EI_PI_PES_exp = []\n",
    "recomm_initial5_Mk10_Mj1_GP_Hedge_EI_PES_exp = []\n",
    "recomm_initial5_Mk10_Mj1_GP_Hedge_EI_PES_2td_exp = []\n",
    "recomm_initial5_Mk10_Mj1_GP_Hedge_EI_PES_3_7_exp = []\n",
    "\n",
    "for i in range(25):\n",
    "    if \"%s_initial5_Mk50_Mj1_GP_Hedge-%d.jobs\"%(exp_name,i) in collection_list: jobs_initial5_Mk50_Mj1_GP_Hedge_4_exp.append(mongo_db[\"%s_initial5_Mk50_Mj1_GP_Hedge-%d.jobs\"%(exp_name,i)]) \n",
    "    if \"%s_initial5_Mk50_Mj1_GP_Hedge_3-%d.jobs\"%(exp_name,i) in collection_list: jobs_initial5_Mk50_Mj1_GP_Hedge_3_exp.append(mongo_db[\"%s_initial5_Mk50_Mj1_GP_Hedge_3-%d.jobs\"%(exp_name,i)]) \n",
    "    if \"%s_initial5_Mk50_Mj1_GP_Hedge_EI_PI_PES-%d.jobs\"%(exp_name,i) in collection_list: jobs_initial5_Mk50_Mj1_GP_Hedge_EI_PI_PES_exp.append(mongo_db[\"%s_initial5_Mk50_Mj1_GP_Hedge_EI_PI_PES-%d.jobs\"%(exp_name,i)]) \n",
    "    if \"%s_initial5_Mk10_Mj1_GP_Hedge_EI_PES-%d.jobs\"%(exp_name,i) in collection_list: jobs_initial5_Mk10_Mj1_GP_Hedge_EI_PES_exp.append(mongo_db[\"%s_initial5_Mk10_Mj1_GP_Hedge_EI_PES-%d.jobs\"%(exp_name,i)]) \n",
    "    if \"%s_initial5_Mk10_Mj1_GP_Hedge_EI_PES_2td-%d.jobs\"%(exp_name,i) in collection_list: jobs_initial5_Mk10_Mj1_GP_Hedge_EI_PES_2td_exp.append(mongo_db[\"%s_initial5_Mk10_Mj1_GP_Hedge_EI_PES_2td-%d.jobs\"%(exp_name,i)]) \n",
    "    if \"%s_initial5_Mk10_Mj1_GP_Hedge_EI_PES_3_7-%d.jobs\"%(exp_name,i) in collection_list: jobs_initial5_Mk10_Mj1_GP_Hedge_EI_PES_3_7_exp.append(mongo_db[\"%s_initial5_Mk10_Mj1_GP_Hedge_EI_PES_3_7-%d.jobs\"%(exp_name,i)]) \n",
    "        \n",
    "    if \"%s_initial5_Mk50_Mj1_GP_Hedge-%d.recommendations\"%(exp_name,i) in collection_list: recomm_initial5_Mk50_Mj1_GP_Hedge_4_exp.append(mongo_db[\"%s_initial5_Mk50_Mj1_GP_Hedge-%d.recommendations\"%(exp_name,i)]) \n",
    "    if \"%s_initial5_Mk50_Mj1_GP_Hedge_3-%d.recommendations\"%(exp_name,i) in collection_list: recomm_initial5_Mk50_Mj1_GP_Hedge_3_exp.append(mongo_db[\"%s_initial5_Mk50_Mj1_GP_Hedge_3-%d.recommendations\"%(exp_name,i)]) \n",
    "    if \"%s_initial5_Mk50_Mj1_GP_Hedge_EI_PI_PES-%d.recommendations\"%(exp_name,i) in collection_list: recomm_initial5_Mk50_Mj1_GP_Hedge_EI_PI_PES_exp.append(mongo_db[\"%s_initial5_Mk50_Mj1_GP_Hedge_EI_PI_PES-%d.recommendations\"%(exp_name,i)]) \n",
    "    if \"%s_initial5_Mk10_Mj1_GP_Hedge_EI_PES-%d.recommendations\"%(exp_name,i) in collection_list: recomm_initial5_Mk10_Mj1_GP_Hedge_EI_PES_exp.append(mongo_db[\"%s_initial5_Mk10_Mj1_GP_Hedge_EI_PES-%d.recommendations\"%(exp_name,i)]) \n",
    "    if \"%s_initial5_Mk10_Mj1_GP_Hedge_EI_PES_2td-%d.recommendations\"%(exp_name,i) in collection_list: recomm_initial5_Mk10_Mj1_GP_Hedge_EI_PES_2td_exp.append(mongo_db[\"%s_initial5_Mk10_Mj1_GP_Hedge_EI_PES_2td-%d.recommendations\"%(exp_name,i)]) \n",
    "    if \"%s_initial5_Mk10_Mj1_GP_Hedge_EI_PES_3_7-%d.recommendations\"%(exp_name,i) in collection_list: recomm_initial5_Mk10_Mj1_GP_Hedge_EI_PES_3_7_exp.append(mongo_db[\"%s_initial5_Mk10_Mj1_GP_Hedge_EI_PES_3_7-%d.recommendations\"%(exp_name,i)]) "
   ]
  },
  {
   "cell_type": "markdown",
   "metadata": {},
   "source": [
    "### Get objective method gets the predicted optimal value in GP model"
   ]
  },
  {
   "cell_type": "code",
   "execution_count": 10,
   "metadata": {},
   "outputs": [],
   "source": [
    "locs_initial5_Mk10_Mj1_EI_exp = functions.get_recomm_loc(recomm_initial5_Mk10_Mj1_EI_exp)\n",
    "locs_initial5_Mk20_Mj1_EI_exp = functions.get_recomm_loc(recomm_initial5_Mk20_Mj1_EI_exp)\n",
    "locs_initial5_Mk50_Mj1_EI_exp = functions.get_recomm_loc(recomm_initial5_Mk50_Mj1_EI_exp)\n",
    "locs_initial5_Mk50_Mj1_acqGrid_100_EI_exp = functions.get_recomm_loc(recomm_initial5_Mk50_Mj1_acqGrid_100_EI_exp)\n",
    "locs_initial5_Mk50_Mj1_acqGrid_1000_EI_exp = functions.get_recomm_loc(recomm_initial5_Mk50_Mj1_acqGrid_1000_EI_exp)\n",
    "locs_initial5_Mk70_Mj1_EI_exp = functions.get_recomm_loc(recomm_initial5_Mk70_Mj1_EI_exp)\n",
    "locs_initial5_Mk200_Mj1_EI_exp = functions.get_recomm_loc(recomm_initial5_Mk200_Mj1_EI_exp)"
   ]
  },
  {
   "cell_type": "code",
   "execution_count": 11,
   "metadata": {},
   "outputs": [],
   "source": [
    "locs_initial5_Mk10_Mj1_PES_exp = functions.get_recomm_loc(recomm_initial5_Mk10_Mj1_PES_exp)\n",
    "locs_initial5_Mk20_Mj1_PES_exp = functions.get_recomm_loc(recomm_initial5_Mk20_Mj1_PES_exp)\n",
    "locs_initial5_Mk30_Mj1_PES_exp = functions.get_recomm_loc(recomm_initial5_Mk30_Mj1_PES_exp)\n",
    "locs_initial5_Mk50_Mj1_PES_exp = functions.get_recomm_loc(recomm_initial5_Mk50_Mj1_PES_exp)\n",
    "locs_initial5_Mk50_Mj1_acqGrid_100_PES_exp = functions.get_recomm_loc(recomm_initial5_Mk50_Mj1_acqGrid_100_PES_exp)\n",
    "locs_initial5_Mk50_Mj1_acqGrid_1000_PES_exp = functions.get_recomm_loc(recomm_initial5_Mk50_Mj1_acqGrid_1000_PES_exp)\n",
    "locs_initial5_Mk200_Mj1_PES_exp = functions.get_recomm_loc(recomm_initial5_Mk200_Mj1_PES_exp)\n",
    "locs_initial5_Mk100_Mj1_PES_exp = functions.get_recomm_loc(recomm_initial5_Mk100_Mj1_PES_exp)"
   ]
  },
  {
   "cell_type": "code",
   "execution_count": 12,
   "metadata": {},
   "outputs": [],
   "source": [
    "locs_initial5_Mk50_Mj1_PI_exp = functions.get_recomm_loc(recomm_initial5_Mk50_Mj1_PI_exp)"
   ]
  },
  {
   "cell_type": "code",
   "execution_count": 13,
   "metadata": {},
   "outputs": [],
   "source": [
    "locs_initial5_Mk50_Mj1_LCB_exp = functions.get_recomm_loc(recomm_initial5_Mk50_Mj1_LCB_exp)\n",
    "locs_initial5_Mk10_Mj1_LCB_exp = functions.get_recomm_loc(recomm_initial5_Mk10_Mj1_LCB_exp)"
   ]
  },
  {
   "cell_type": "code",
   "execution_count": 14,
   "metadata": {},
   "outputs": [],
   "source": [
    "locs_initial5_Mk50_Mj1_GP_Hedge_4_exp = functions.get_recomm_loc(recomm_initial5_Mk50_Mj1_GP_Hedge_4_exp)\n",
    "locs_initial5_Mk50_Mj1_GP_Hedge_3_exp = functions.get_recomm_loc(recomm_initial5_Mk50_Mj1_GP_Hedge_3_exp)\n",
    "locs_initial5_Mk50_Mj1_GP_Hedge_EI_PI_PES_exp = functions.get_recomm_loc(recomm_initial5_Mk50_Mj1_GP_Hedge_EI_PI_PES_exp)\n",
    "locs_initial5_Mk10_Mj1_GP_Hedge_EI_PES_exp = functions.get_recomm_loc(recomm_initial5_Mk10_Mj1_GP_Hedge_EI_PES_exp)\n",
    "locs_initial5_Mk10_Mj1_GP_Hedge_EI_PES_2td_exp = functions.get_recomm_loc(recomm_initial5_Mk10_Mj1_GP_Hedge_EI_PES_2td_exp)\n",
    "\n",
    "locs_initial5_Mk10_Mj1_GP_Hedge_EI_PES_3_7_exp = functions.get_recomm_loc(recomm_initial5_Mk10_Mj1_GP_Hedge_EI_PES_3_7_exp)"
   ]
  },
  {
   "cell_type": "markdown",
   "metadata": {},
   "source": [
    "### Getting immediate Regret IR measure"
   ]
  },
  {
   "cell_type": "code",
   "execution_count": 15,
   "metadata": {},
   "outputs": [],
   "source": [
    "def drop_wave(x1,x2):\n",
    "\tnumerator = 1 + np.cos(12*((x1**2 + x2**2)**0.5))\n",
    "\tdelimiter = 0.5 * (x1**2 + x2**2) + 2\n",
    "\n",
    "\tresult = - numerator / delimiter\n",
    "\n",
    "\treturn result"
   ]
  },
  {
   "cell_type": "code",
   "execution_count": 16,
   "metadata": {},
   "outputs": [],
   "source": [
    "opt_val = -1"
   ]
  },
  {
   "cell_type": "code",
   "execution_count": 17,
   "metadata": {},
   "outputs": [],
   "source": [
    "func = drop_wave"
   ]
  },
  {
   "cell_type": "code",
   "execution_count": 18,
   "metadata": {},
   "outputs": [],
   "source": [
    "def get_sugg_obj_exp(locs_exp):\n",
    "    obj_exp = []\n",
    "    for exp_num in range(len(locs_exp)):\n",
    "        objs_iter = []\n",
    "        locs_cur_exp = locs_exp[exp_num]\n",
    "        \n",
    "        for idx in range(len(locs_exp[exp_num])):\n",
    "            objs_iter.append(func(*locs_cur_exp[idx]))\n",
    "            \n",
    "        obj_exp.append(objs_iter)\n",
    "        \n",
    "    return obj_exp\n"
   ]
  },
  {
   "cell_type": "code",
   "execution_count": 19,
   "metadata": {},
   "outputs": [],
   "source": [
    "def log_ir(input_list):\n",
    "    return np.log10(np.abs(opt_val - func(*input_list)))"
   ]
  },
  {
   "cell_type": "code",
   "execution_count": 20,
   "metadata": {},
   "outputs": [],
   "source": [
    "def get_irs_whole_exp(locs_exp):\n",
    "    irs_exp = []\n",
    "    for exp_num in range(len(locs_exp)):\n",
    "        irs_iter = []\n",
    "        locs_cur_exp = locs_exp[exp_num]\n",
    "        \n",
    "        for idx in range(len(locs_exp[0])):\n",
    "            \n",
    "            irs_iter.append(log_ir(locs_cur_exp[idx]))\n",
    "            \n",
    "        irs_exp.append(irs_iter)\n",
    "        \n",
    "    return irs_exp"
   ]
  },
  {
   "cell_type": "code",
   "execution_count": 21,
   "metadata": {},
   "outputs": [],
   "source": [
    "def get_avg_irs(irs_exp):\n",
    "    avg_irs = []\n",
    "    for iter_num in range(len(irs_exp[0])):\n",
    "        cur_iter_irs = []\n",
    "        for exp_num in range(len(irs_exp)):\n",
    "            cur_iter_irs.append(irs_exp[exp_num][iter_num])\n",
    "            \n",
    "        avg_irs.append(np.average(cur_iter_irs))\n",
    "        \n",
    "    return avg_irs\n"
   ]
  },
  {
   "cell_type": "code",
   "execution_count": 22,
   "metadata": {},
   "outputs": [],
   "source": [
    "def get_median_irs(irs_exp):\n",
    "    median_irs = []\n",
    "    for iter_num in range(len(irs_exp[0])):\n",
    "        cur_iter_irs = []\n",
    "        for exp_num in range(len(irs_exp)):\n",
    "            cur_iter_irs.append(irs_exp[exp_num][iter_num])\n",
    "        \n",
    "        median_irs.append(np.median(cur_iter_irs))\n",
    "        \n",
    "    return median_irs\n",
    "\n"
   ]
  },
  {
   "cell_type": "code",
   "execution_count": 23,
   "metadata": {},
   "outputs": [],
   "source": [
    "def get_std_err_irs(irs_exp):\n",
    "    std_err_irs = []\n",
    "    for iter_num in range(len(irs_exp[0])):\n",
    "        cur_iter_irs = []\n",
    "        for exp_num in range(len(irs_exp)):\n",
    "            cur_iter_irs.append(irs_exp[exp_num][iter_num])\n",
    "            \n",
    "        std_err_irs.append(np.std(cur_iter_irs))\n",
    "        \n",
    "    return std_err_irs"
   ]
  },
  {
   "cell_type": "code",
   "execution_count": 24,
   "metadata": {},
   "outputs": [],
   "source": [
    "minimum = 50\n",
    "for exp in locs_initial5_Mk50_Mj1_GP_Hedge_EI_PI_PES_exp:\n",
    "    minimum = minimum if len(exp) > minimum else len(exp)\n",
    "    \n",
    "locs_initial5_Mk50_Mj1_GP_Hedge_EI_PI_PES_exp = [list_[:minimum] for list_ in locs_initial5_Mk50_Mj1_GP_Hedge_EI_PI_PES_exp]"
   ]
  },
  {
   "cell_type": "markdown",
   "metadata": {},
   "source": [
    "### Getting the 'real' value of functions at suggested locations"
   ]
  },
  {
   "cell_type": "code",
   "execution_count": 25,
   "metadata": {},
   "outputs": [],
   "source": [
    "sugg_obj_initial5_Mk10_Mj1_EI_exp = get_sugg_obj_exp(locs_initial5_Mk10_Mj1_EI_exp)\n",
    "sugg_obj_initial5_Mk20_Mj1_EI_exp = get_sugg_obj_exp(locs_initial5_Mk20_Mj1_EI_exp)\n",
    "sugg_obj_initial5_Mk50_Mj1_EI_exp = get_sugg_obj_exp(locs_initial5_Mk50_Mj1_EI_exp)\n",
    "#sugg_obj_initial5_Mk50_Mj1_acqGrid_100_EI_exp = get_sugg_obj_exp(locs_initial5_Mk50_Mj1_acqGrid_100_EI_exp)\n",
    "#sugg_obj_initial5_Mk50_Mj1_acqGrid_1000_EI_exp = get_sugg_obj_exp(locs_initial5_Mk50_Mj1_acqGrid_1000_EI_exp)\n",
    "#sugg_obj_initial5_Mk70_Mj1_EI_exp = get_sugg_obj_exp(locs_initial5_Mk70_Mj1_EI_exp)\n",
    "sugg_obj_initial5_Mk200_Mj1_EI_exp = get_sugg_obj_exp(locs_initial5_Mk200_Mj1_EI_exp)\n",
    "\n"
   ]
  },
  {
   "cell_type": "code",
   "execution_count": 26,
   "metadata": {},
   "outputs": [],
   "source": [
    "sugg_obj_initial5_Mk10_Mj1_PES_exp = get_sugg_obj_exp(locs_initial5_Mk10_Mj1_PES_exp)\n",
    "sugg_obj_initial5_Mk20_Mj1_PES_exp = get_sugg_obj_exp(locs_initial5_Mk20_Mj1_PES_exp)\n",
    "sugg_obj_initial5_Mk30_Mj1_PES_exp = get_sugg_obj_exp(locs_initial5_Mk30_Mj1_PES_exp)\n",
    "sugg_obj_initial5_Mk50_Mj1_PES_exp = get_sugg_obj_exp(locs_initial5_Mk50_Mj1_PES_exp)\n",
    "sugg_obj_initial5_Mk50_Mj1_acqGrid_100_PES_exp = get_sugg_obj_exp(locs_initial5_Mk50_Mj1_acqGrid_100_PES_exp)\n",
    "sugg_obj_initial5_Mk50_Mj1_acqGrid_1000_PES_exp = get_sugg_obj_exp(locs_initial5_Mk50_Mj1_acqGrid_1000_PES_exp)\n",
    "sugg_obj_initial5_Mk200_Mj1_PES_exp = get_sugg_obj_exp(locs_initial5_Mk200_Mj1_PES_exp)\n",
    "sugg_obj_initial5_Mk100_Mj1_PES_exp = get_sugg_obj_exp(locs_initial5_Mk100_Mj1_PES_exp)"
   ]
  },
  {
   "cell_type": "code",
   "execution_count": 27,
   "metadata": {},
   "outputs": [],
   "source": [
    "sugg_obj_initial5_Mk50_Mj1_PI_exp = get_sugg_obj_exp(locs_initial5_Mk50_Mj1_PI_exp)"
   ]
  },
  {
   "cell_type": "code",
   "execution_count": 28,
   "metadata": {},
   "outputs": [],
   "source": [
    "sugg_obj_initial5_Mk50_Mj1_LCB_exp = get_sugg_obj_exp(locs_initial5_Mk50_Mj1_LCB_exp)"
   ]
  },
  {
   "cell_type": "code",
   "execution_count": 29,
   "metadata": {},
   "outputs": [],
   "source": [
    "sugg_obj_initial5_Mk50_Mj1_GP_Hedge_4_exp = get_sugg_obj_exp(locs_initial5_Mk50_Mj1_GP_Hedge_4_exp)\n",
    "sugg_obj_initial5_Mk50_Mj1_GP_Hedge_3_exp = get_sugg_obj_exp(locs_initial5_Mk50_Mj1_GP_Hedge_3_exp)\n",
    "sugg_obj_initial5_Mk50_Mj1_GP_Hedge_EI_PI_PES_exp = get_sugg_obj_exp(locs_initial5_Mk50_Mj1_GP_Hedge_EI_PI_PES_exp)\n",
    "sugg_obj_initial5_Mk10_Mj1_GP_Hedge_EI_PES_exp = get_sugg_obj_exp(locs_initial5_Mk10_Mj1_GP_Hedge_EI_PES_exp)\n",
    "sugg_obj_initial5_Mk10_Mj1_GP_Hedge_EI_PES_2td_exp = get_sugg_obj_exp(locs_initial5_Mk10_Mj1_GP_Hedge_EI_PES_2td_exp)\n",
    "\n",
    "sugg_obj_initial5_Mk10_Mj1_GP_Hedge_EI_PES_3_7_exp = get_sugg_obj_exp(locs_initial5_Mk10_Mj1_GP_Hedge_EI_PES_3_7_exp)"
   ]
  },
  {
   "cell_type": "markdown",
   "metadata": {},
   "source": [
    "### Averaging values of each experiments"
   ]
  },
  {
   "cell_type": "code",
   "execution_count": 30,
   "metadata": {},
   "outputs": [],
   "source": [
    "avg_sugg_obj_initial5_Mk10_Mj1_EI = np.average(sugg_obj_initial5_Mk10_Mj1_EI_exp, axis=0)\n",
    "avg_sugg_obj_initial5_Mk20_Mj1_EI = np.average(sugg_obj_initial5_Mk20_Mj1_EI_exp, axis=0)\n",
    "avg_sugg_obj_initial5_Mk50_Mj1_EI = np.average(sugg_obj_initial5_Mk50_Mj1_EI_exp, axis=0)\n",
    "#avg_sugg_obj_initial5_Mk50_Mj1_acqGrid_100_EI = np.average(sugg_obj_initial5_Mk50_Mj1_acqGrid_100_EI_exp, axis=0)\n",
    "#avg_sugg_obj_initial5_Mk50_Mj1_acqGrid_1000_EI = np.average(sugg_obj_initial5_Mk50_Mj1_acqGrid_1000_EI_exp, axis=0)\n",
    "#avg_sugg_obj_initial5_Mk70_Mj1_EI = np.average(sugg_obj_initial5_Mk70_Mj1_EI_exp, axis=0)\n",
    "avg_sugg_obj_initial5_Mk200_Mj1_EI = np.average(sugg_obj_initial5_Mk200_Mj1_EI_exp, axis=0)"
   ]
  },
  {
   "cell_type": "code",
   "execution_count": 31,
   "metadata": {},
   "outputs": [],
   "source": [
    "avg_sugg_obj_initial5_Mk10_Mj1_PES = np.average(sugg_obj_initial5_Mk10_Mj1_PES_exp, axis=0)\n",
    "avg_sugg_obj_initial5_Mk20_Mj1_PES = np.average(sugg_obj_initial5_Mk20_Mj1_PES_exp, axis=0)\n",
    "avg_sugg_obj_initial5_Mk30_Mj1_PES = np.average(sugg_obj_initial5_Mk30_Mj1_PES_exp, axis=0)\n",
    "avg_sugg_obj_initial5_Mk50_Mj1_PES = np.average(sugg_obj_initial5_Mk50_Mj1_PES_exp, axis=0)\n",
    "avg_sugg_obj_initial5_Mk50_Mj1_acqGrid_100_PES = np.average(sugg_obj_initial5_Mk50_Mj1_acqGrid_100_PES_exp, axis=0)\n",
    "avg_sugg_obj_initial5_Mk50_Mj1_acqGrid_1000_PES = np.average(sugg_obj_initial5_Mk50_Mj1_acqGrid_1000_PES_exp, axis=0)\n",
    "avg_sugg_obj_initial5_Mk200_Mj1_PES = np.average(sugg_obj_initial5_Mk200_Mj1_PES_exp, axis=0)\n",
    "avg_sugg_obj_initial5_Mk100_Mj1_PES = np.average(sugg_obj_initial5_Mk100_Mj1_PES_exp, axis=0)"
   ]
  },
  {
   "cell_type": "code",
   "execution_count": 32,
   "metadata": {},
   "outputs": [],
   "source": [
    "avg_sugg_obj_initial5_Mk50_Mj1_PI = np.average(sugg_obj_initial5_Mk50_Mj1_PI_exp, axis=0)"
   ]
  },
  {
   "cell_type": "code",
   "execution_count": 33,
   "metadata": {},
   "outputs": [],
   "source": [
    "avg_sugg_obj_initial5_Mk50_Mj1_LCB = np.average(sugg_obj_initial5_Mk50_Mj1_LCB_exp, axis=0)"
   ]
  },
  {
   "cell_type": "code",
   "execution_count": 34,
   "metadata": {},
   "outputs": [],
   "source": [
    "avg_sugg_obj_initial5_Mk50_Mj1_GP_Hedge_4 = np.average(sugg_obj_initial5_Mk50_Mj1_GP_Hedge_4_exp, axis=0)\n",
    "avg_sugg_obj_initial5_Mk50_Mj1_GP_Hedge_3 = np.average(sugg_obj_initial5_Mk50_Mj1_GP_Hedge_3_exp, axis=0)\n",
    "avg_sugg_obj_initial5_Mk50_Mj1_GP_Hedge_EI_PI_PES = np.average(sugg_obj_initial5_Mk50_Mj1_GP_Hedge_EI_PI_PES_exp, axis=0)\n",
    "avg_sugg_obj_initial5_Mk10_Mj1_GP_Hedge_EI_PES = np.average(sugg_obj_initial5_Mk10_Mj1_GP_Hedge_EI_PES_exp, axis=0)\n",
    "avg_sugg_obj_initial5_Mk10_Mj1_GP_Hedge_EI_PES_2td = np.average(sugg_obj_initial5_Mk10_Mj1_GP_Hedge_EI_PES_2td_exp, axis=0)\n",
    "\n",
    "avg_sugg_obj_initial5_Mk10_Mj1_GP_Hedge_EI_PES_3_7 = np.average(sugg_obj_initial5_Mk10_Mj1_GP_Hedge_EI_PES_3_7_exp, axis=0)"
   ]
  },
  {
   "cell_type": "markdown",
   "metadata": {},
   "source": [
    "### Getting IR values for look optimization performances"
   ]
  },
  {
   "cell_type": "code",
   "execution_count": 35,
   "metadata": {},
   "outputs": [],
   "source": [
    "irs_initial5_Mk10_Mj1_EI_exp = get_irs_whole_exp(locs_initial5_Mk10_Mj1_EI_exp)\n",
    "irs_initial5_Mk20_Mj1_EI_exp = get_irs_whole_exp(locs_initial5_Mk20_Mj1_EI_exp)\n",
    "irs_initial5_Mk50_Mj1_EI_exp = get_irs_whole_exp(locs_initial5_Mk50_Mj1_EI_exp)\n",
    "#irs_initial5_Mk50_Mj1_acqGrid_100_EI_exp = get_irs_whole_exp(locs_initial5_Mk50_Mj1_acqGrid_100_EI_exp)\n",
    "#irs_initial5_Mk50_Mj1_acqGrid_1000_EI_exp = get_irs_whole_exp(locs_initial5_Mk50_Mj1_acqGrid_1000_EI_exp)\n",
    "#irs_initial5_Mk70_Mj1_EI_exp = get_irs_whole_exp(locs_initial5_Mk70_Mj1_EI_exp)\n",
    "irs_initial5_Mk200_Mj1_EI_exp = get_irs_whole_exp(locs_initial5_Mk200_Mj1_EI_exp)"
   ]
  },
  {
   "cell_type": "code",
   "execution_count": 36,
   "metadata": {},
   "outputs": [],
   "source": [
    "irs_initial5_Mk10_Mj1_PES_exp = get_irs_whole_exp(locs_initial5_Mk10_Mj1_PES_exp)\n",
    "irs_initial5_Mk20_Mj1_PES_exp = get_irs_whole_exp(locs_initial5_Mk20_Mj1_PES_exp)\n",
    "irs_initial5_Mk30_Mj1_PES_exp = get_irs_whole_exp(locs_initial5_Mk30_Mj1_PES_exp)\n",
    "irs_initial5_Mk50_Mj1_PES_exp = get_irs_whole_exp(locs_initial5_Mk50_Mj1_PES_exp)\n",
    "irs_initial5_Mk50_Mj1_acqGrid_100_PES_exp = get_irs_whole_exp(locs_initial5_Mk50_Mj1_acqGrid_100_PES_exp)\n",
    "irs_initial5_Mk50_Mj1_acqGrid_1000_PES_exp = get_irs_whole_exp(locs_initial5_Mk50_Mj1_acqGrid_1000_PES_exp)\n",
    "irs_initial5_Mk200_Mj1_PES_exp = get_irs_whole_exp(locs_initial5_Mk200_Mj1_PES_exp)\n",
    "irs_initial5_Mk100_Mj1_PES_exp = get_irs_whole_exp(locs_initial5_Mk100_Mj1_PES_exp)"
   ]
  },
  {
   "cell_type": "code",
   "execution_count": 37,
   "metadata": {},
   "outputs": [],
   "source": [
    "irs_initial5_Mk50_Mj1_PI_exp = get_irs_whole_exp(locs_initial5_Mk50_Mj1_PI_exp)"
   ]
  },
  {
   "cell_type": "code",
   "execution_count": 38,
   "metadata": {},
   "outputs": [],
   "source": [
    "irs_initial5_Mk50_Mj1_LCB_exp = get_irs_whole_exp(locs_initial5_Mk50_Mj1_LCB_exp)"
   ]
  },
  {
   "cell_type": "code",
   "execution_count": 51,
   "metadata": {},
   "outputs": [],
   "source": [
    "irs_initial5_Mk50_Mj1_Gp_Hedge_4_exp = get_irs_whole_exp(locs_initial5_Mk50_Mj1_GP_Hedge_4_exp)\n",
    "irs_initial5_Mk50_Mj1_Gp_Hedge_3_exp = get_irs_whole_exp(locs_initial5_Mk50_Mj1_GP_Hedge_3_exp)\n",
    "irs_initial5_Mk50_Mj1_Gp_Hedge_EI_PI_PES_exp = get_irs_whole_exp(locs_initial5_Mk50_Mj1_GP_Hedge_EI_PI_PES_exp)\n",
    "irs_initial5_Mk10_Mj1_Gp_Hedge_EI_PES_exp = get_irs_whole_exp(locs_initial5_Mk10_Mj1_GP_Hedge_EI_PES_exp)\n",
    "irs_initial5_Mk10_Mj1_Gp_Hedge_EI_PES_2td_exp = get_irs_whole_exp(locs_initial5_Mk10_Mj1_GP_Hedge_EI_PES_2td_exp)\n",
    "\n",
    "irs_initial5_Mk10_Mj1_Gp_Hedge_EI_PES_3_7_exp = get_irs_whole_exp(locs_initial5_Mk10_Mj1_GP_Hedge_EI_PES_3_7_exp)"
   ]
  },
  {
   "cell_type": "markdown",
   "metadata": {},
   "source": [
    "### Get averaged and median value of IR"
   ]
  },
  {
   "cell_type": "code",
   "execution_count": 40,
   "metadata": {},
   "outputs": [],
   "source": [
    "irs_initial5_Mk10_Mj1_EI_avg = get_avg_irs(irs_initial5_Mk10_Mj1_EI_exp)\n",
    "irs_initial5_Mk20_Mj1_EI_avg = get_avg_irs(irs_initial5_Mk20_Mj1_EI_exp)\n",
    "irs_initial5_Mk50_Mj1_EI_avg = get_avg_irs(irs_initial5_Mk50_Mj1_EI_exp)\n",
    "#irs_initial5_Mk50_Mj1_acqGrid_100_EI_avg = get_avg_irs(irs_initial5_Mk50_Mj1_acqGrid_100_EI_exp)\n",
    "#irs_initial5_Mk50_Mj1_acqGrid_1000_EI_avg = get_avg_irs(irs_initial5_Mk50_Mj1_acqGrid_1000_EI_exp)\n",
    "#irs_initial5_Mk70_Mj1_EI_avg = get_avg_irs(irs_initial5_Mk70_Mj1_EI_exp)\n",
    "irs_initial5_Mk200_Mj1_EI_avg = get_avg_irs(irs_initial5_Mk200_Mj1_EI_exp)"
   ]
  },
  {
   "cell_type": "code",
   "execution_count": 41,
   "metadata": {},
   "outputs": [],
   "source": [
    "irs_initial5_Mk10_Mj1_PES_avg = get_avg_irs(irs_initial5_Mk10_Mj1_PES_exp)\n",
    "irs_initial5_Mk20_Mj1_PES_avg = get_avg_irs(irs_initial5_Mk20_Mj1_PES_exp)\n",
    "irs_initial5_Mk30_Mj1_PES_avg = get_avg_irs(irs_initial5_Mk30_Mj1_PES_exp)\n",
    "irs_initial5_Mk50_Mj1_PES_avg = get_avg_irs(irs_initial5_Mk50_Mj1_PES_exp)\n",
    "irs_initial5_Mk50_Mj1_acqGrid_100_PES_avg = get_avg_irs(irs_initial5_Mk50_Mj1_acqGrid_100_PES_exp)\n",
    "irs_initial5_Mk50_Mj1_acqGrid_1000_PES_avg = get_avg_irs(irs_initial5_Mk50_Mj1_acqGrid_1000_PES_exp)\n",
    "irs_initial5_Mk200_Mj1_PES_avg = get_avg_irs(irs_initial5_Mk200_Mj1_PES_exp)"
   ]
  },
  {
   "cell_type": "code",
   "execution_count": 42,
   "metadata": {},
   "outputs": [],
   "source": [
    "irs_initial5_Mk50_Mj1_PI_avg = get_avg_irs(irs_initial5_Mk50_Mj1_PI_exp)"
   ]
  },
  {
   "cell_type": "code",
   "execution_count": 43,
   "metadata": {},
   "outputs": [],
   "source": [
    "irs_initial5_Mk50_Mj1_LCB_avg = get_avg_irs(irs_initial5_Mk50_Mj1_LCB_exp)"
   ]
  },
  {
   "cell_type": "code",
   "execution_count": 52,
   "metadata": {},
   "outputs": [],
   "source": [
    "irs_initial5_Mk50_Mj1_GP_Hedge_avg = get_avg_irs(irs_initial5_Mk50_Mj1_Gp_Hedge_4_exp)\n",
    "irs_initial5_Mk50_Mj1_GP_Hedge_3_avg = get_avg_irs(irs_initial5_Mk50_Mj1_Gp_Hedge_3_exp)\n",
    "irs_initial5_Mk50_Mj1_GP_Hedge_EI_PI_PES_avg = get_avg_irs(irs_initial5_Mk50_Mj1_Gp_Hedge_EI_PI_PES_exp)\n",
    "irs_initial5_Mk10_Mj1_GP_Hedge_EI_PES_avg = get_avg_irs(irs_initial5_Mk10_Mj1_Gp_Hedge_EI_PES_exp)\n",
    "irs_initial5_Mk10_Mj1_GP_Hedge_EI_PES_2td_avg = get_avg_irs(irs_initial5_Mk10_Mj1_Gp_Hedge_EI_PES_2td_exp)\n",
    "\n",
    "irs_initial5_Mk10_Mj1_GP_Hedge_EI_PES_3_7_avg = get_avg_irs(irs_initial5_Mk10_Mj1_Gp_Hedge_EI_PES_3_7_exp)"
   ]
  },
  {
   "cell_type": "code",
   "execution_count": 45,
   "metadata": {},
   "outputs": [],
   "source": [
    "irs_initial5_Mk10_Mj1_EI_median = get_median_irs(irs_initial5_Mk10_Mj1_EI_exp)\n",
    "irs_initial5_Mk20_Mj1_EI_median = get_median_irs(irs_initial5_Mk20_Mj1_EI_exp)\n",
    "irs_initial5_Mk50_Mj1_EI_median = get_median_irs(irs_initial5_Mk50_Mj1_EI_exp)\n",
    "#irs_initial5_Mk50_Mj1_acqGrid_100_EI_median = get_median_irs(irs_initial5_Mk50_Mj1_acqGrid_100_EI_exp)\n",
    "#irs_initial5_Mk50_Mj1_acqGrid_1000_EI_median = get_median_irs(irs_initial5_Mk50_Mj1_acqGrid_1000_EI_exp)\n",
    "#irs_initial5_Mk70_Mj1_EI_median = get_median_irs(irs_initial5_Mk70_Mj1_EI_exp)\n",
    "irs_initial5_Mk200_Mj1_EI_median = get_median_irs(irs_initial5_Mk200_Mj1_EI_exp)"
   ]
  },
  {
   "cell_type": "code",
   "execution_count": 46,
   "metadata": {},
   "outputs": [],
   "source": [
    "irs_initial5_Mk10_Mj1_PES_median = get_median_irs(irs_initial5_Mk10_Mj1_PES_exp)\n",
    "irs_initial5_Mk20_Mj1_PES_median = get_median_irs(irs_initial5_Mk20_Mj1_PES_exp)\n",
    "irs_initial5_Mk30_Mj1_PES_median = get_median_irs(irs_initial5_Mk30_Mj1_PES_exp)\n",
    "irs_initial5_Mk50_Mj1_PES_median = get_median_irs(irs_initial5_Mk50_Mj1_PES_exp)\n",
    "irs_initial5_Mk50_Mj1_acqGrid_100_PES_median = get_median_irs(irs_initial5_Mk50_Mj1_acqGrid_100_PES_exp)\n",
    "irs_initial5_Mk50_Mj1_acqGrid_1000_PES_median = get_median_irs(irs_initial5_Mk50_Mj1_acqGrid_1000_PES_exp)\n",
    "irs_initial5_Mk200_Mj1_PES_median = get_median_irs(irs_initial5_Mk200_Mj1_PES_exp)"
   ]
  },
  {
   "cell_type": "code",
   "execution_count": 47,
   "metadata": {},
   "outputs": [],
   "source": [
    "irs_initial5_Mk50_Mj1_PI_median = get_median_irs(irs_initial5_Mk50_Mj1_PI_exp)"
   ]
  },
  {
   "cell_type": "code",
   "execution_count": 48,
   "metadata": {},
   "outputs": [],
   "source": [
    "irs_initial5_Mk50_Mj1_LCB_median = get_median_irs(irs_initial5_Mk50_Mj1_LCB_exp)"
   ]
  },
  {
   "cell_type": "code",
   "execution_count": 53,
   "metadata": {},
   "outputs": [],
   "source": [
    "irs_initial5_Mk50_Mj1_GP_Hedge_median = get_median_irs(irs_initial5_Mk50_Mj1_Gp_Hedge_4_exp)\n",
    "irs_initial5_Mk50_Mj1_GP_Hedge_3_median = get_median_irs(irs_initial5_Mk50_Mj1_Gp_Hedge_3_exp)\n",
    "irs_initial5_Mk50_Mj1_GP_Hedge_EI_PI_PES_median = get_median_irs(irs_initial5_Mk50_Mj1_Gp_Hedge_EI_PI_PES_exp)\n",
    "irs_initial5_Mk10_Mj1_GP_Hedge_EI_PES_median = get_median_irs(irs_initial5_Mk10_Mj1_Gp_Hedge_EI_PES_exp)\n",
    "irs_initial5_Mk10_Mj1_GP_Hedge_EI_PES_2td_median = get_median_irs(irs_initial5_Mk10_Mj1_Gp_Hedge_EI_PES_2td_exp)\n",
    "\n",
    "irs_initial5_Mk10_Mj1_GP_Hedge_EI_PES_3_7_median = get_median_irs(irs_initial5_Mk10_Mj1_Gp_Hedge_EI_PES_3_7_exp)"
   ]
  },
  {
   "cell_type": "markdown",
   "metadata": {},
   "source": [
    "### Plotting the real function value at suggested locations"
   ]
  },
  {
   "cell_type": "code",
   "execution_count": 54,
   "metadata": {
    "scrolled": false
   },
   "outputs": [
    {
     "data": {
      "image/png": "[encoded data removed]",
      "text/plain": [
       "<Figure size 720x504 with 1 Axes>"
      ]
     },
     "metadata": {
      "needs_background": "light"
     },
     "output_type": "display_data"
    }
   ],
   "source": [
    "plt.figure(figsize=(10,7))\n",
    "plt.plot(avg_sugg_obj_initial5_Mk10_Mj1_EI[3:], label=\"Mk10, 5 initial, EI\")\n",
    "#plt.plot(avg_sugg_obj_initial5_Mk20_Mj1_EI[3:], label=\"Mk20, 5 initial, EI\")\n",
    "#plt.plot(avg_sugg_obj_initial5_Mk50_Mj1_EI[3:], label=\"Mk50, 5 initial, EI\")\n",
    "#plt.plot(avg_sugg_obj_initial5_Mk200_Mj1_EI[3:], label=\"Mk200, 5 initial, EI\")\n",
    "#plt.plot(avg_sugg_obj_initial5_Mk50_Mj1_PI[3:], label=\"Mk50, 5 initial, PI\")\n",
    "#plt.plot(avg_sugg_obj_initial5_Mk50_Mj1_LCB[3:], label=\"Mk50, 5 initial, LCB\")\n",
    "plt.plot(avg_sugg_obj_initial5_Mk50_Mj1_PES[3:], label=\"Mk50, 5 initial PES\")\n",
    "plt.plot(avg_sugg_obj_initial5_Mk50_Mj1_GP_Hedge_4[3:], label='GP Hedge with EI, PI, LCB, PES')\n",
    "#plt.plot(avg_sugg_obj_initial5_Mk50_Mj1_GP_Hedge_3[3:], label='GP Hedge with EI, PI, LCB')\n",
    "plt.plot(avg_sugg_obj_initial5_Mk50_Mj1_GP_Hedge_EI_PI_PES[3:], label='GP Hedge with EI, PI, PES')\n",
    "plt.plot(avg_sugg_obj_initial5_Mk10_Mj1_GP_Hedge_EI_PES[3:], label='GP Hedge with EI, PES')\n",
    "plt.plot(avg_sugg_obj_initial5_Mk10_Mj1_GP_Hedge_EI_PES_2td[3:], label='GP Hedge with EI, PES')\n",
    "plt.plot(avg_sugg_obj_initial5_Mk10_Mj1_GP_Hedge_EI_PES_3_7[3:], label='EI3, PES7')\n",
    "\n",
    "plt.hlines(opt_val, xmin=0, xmax=30, colors='k')\n",
    "plt.legend()\n",
    "plt.show()"
   ]
  },
  {
   "cell_type": "code",
   "execution_count": null,
   "metadata": {},
   "outputs": [],
   "source": []
  }
 ],
 "metadata": {
  "kernelspec": {
   "display_name": "Python 2",
   "language": "python",
   "name": "python2"
  },
  "language_info": {
   "codemirror_mode": {
    "name": "ipython",
    "version": 2
   },
   "file_extension": ".py",
   "mimetype": "text/x-python",
   "name": "python",
   "nbconvert_exporter": "python",
   "pygments_lexer": "ipython2",
   "version": "2.7.18"
  }
 },
 "nbformat": 4,
 "nbformat_minor": 2
}
