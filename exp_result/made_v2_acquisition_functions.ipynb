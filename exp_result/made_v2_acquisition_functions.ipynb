{
 "cells": [
  {
   "cell_type": "code",
   "execution_count": 1,
   "metadata": {},
   "outputs": [],
   "source": [
    "import pymongo\n",
    "from spearmint.utils import compression\n",
    "from spearmint.utils import functions\n",
    "import matplotlib.pyplot as plt\n",
    "import numpy as np\n",
    "import seaborn as sns\n",
    "from spearmint.tasks import input_space\n",
    "sns.set()"
   ]
  },
  {
   "cell_type": "code",
   "execution_count": 2,
   "metadata": {},
   "outputs": [],
   "source": [
    "mongo_conn = pymongo.MongoClient('127.0.0.1',27017)\n",
    "mongo_conn.list_database_names()\n",
    "\n",
    "mongo_db = mongo_conn['spearmint']"
   ]
  },
  {
   "cell_type": "code",
   "execution_count": 3,
   "metadata": {},
   "outputs": [],
   "source": [
    "collection_list = mongo_db.list_collection_names()"
   ]
  },
  {
   "cell_type": "code",
   "execution_count": 4,
   "metadata": {},
   "outputs": [],
   "source": [
    "exp_name = \"made_v2\""
   ]
  },
  {
   "cell_type": "markdown",
   "metadata": {},
   "source": [
    "## Deterministic version"
   ]
  },
  {
   "cell_type": "code",
   "execution_count": 5,
   "metadata": {},
   "outputs": [],
   "source": [
    "#jobs_initial0_Mk0_ls01_amp10_EI_xi10_exp = []\n",
    "jobs_initial0_Mk0_ls01_amp10_EI_xi05_exp = []\n",
    "jobs_initial0_Mk0_ls01_amp10_EI_exp = []\n",
    "#jobs_initial3_Mk0_ls01_amp10_EI_exp = []\n",
    "#jobs_initial3_Mk10_EI_exp = []\n",
    "jobs_initial0_Mk10_EI_exp = []\n",
    "#jobs_initial0_Mk10_EI_xi10_exp = []\n",
    "jobs_initial0_Mk10_EI_xi05_exp = []\n",
    "\n",
    "recomm_initial0_Mk0_ls01_amp10_EI_exp = []\n",
    "#recomm_initial0_Mk0_ls01_amp10_EI_xi10_exp = []\n",
    "recomm_initial0_Mk0_ls01_amp10_EI_xi05_exp = []\n",
    "#recomm_initial3_Mk0_ls01_amp10_EI_exp = []\n",
    "#recomm_initial3_Mk10_EI_exp = []\n",
    "recomm_initial0_Mk10_EI_exp = []\n",
    "#recomm_initial0_Mk10_EI_xi10_exp = []\n",
    "recomm_initial0_Mk10_EI_xi05_exp = []\n",
    "\n",
    "for i in range(25):\n",
    "    if \"%s_initial0_Mk0_ls01_amp10_EI-%d.jobs\"%(exp_name,i) in collection_list: jobs_initial0_Mk0_ls01_amp10_EI_exp.append(mongo_db[\"%s_initial0_Mk0_ls01_amp10_EI-%d.jobs\"%(exp_name,i)]) \n",
    "    #if \"%s_initial0_Mk0_ls01_amp10_EI_1.0-%d.jobs\"%(exp_name,i) in collection_list: jobs_initial0_Mk0_ls01_amp10_EI_xi10_exp.append(mongo_db[\"%s_initial0_Mk0_ls01_amp10_EI_1.0-%d.jobs\"%(exp_name,i)]) \n",
    "    if \"%s_initial0_Mk0_ls01_amp10_EI_0.5-%d.jobs\"%(exp_name,i) in collection_list: jobs_initial0_Mk0_ls01_amp10_EI_xi05_exp.append(mongo_db[\"%s_initial0_Mk0_ls01_amp10_EI_0.5-%d.jobs\"%(exp_name,i)]) \n",
    "    #if \"%s_initial3_Mk0_ls01_amp10_EI-%d.jobs\"%(exp_name,i) in collection_list: jobs_initial3_Mk0_ls01_amp10_EI_exp.append(mongo_db[\"%s_initial3_Mk0_ls01_amp10_EI-%d.jobs\"%(exp_name,i)]) \n",
    "    #if \"%s_initial3_Mk10_EI-%d.jobs\"%(exp_name,i) in collection_list: jobs_initial3_Mk10_EI_exp.append(mongo_db[\"%s_initial3_Mk10_EI-%d.jobs\"%(exp_name,i)]) \n",
    "    if \"%s_initial0_Mk10_EI-%d.jobs\"%(exp_name,i) in collection_list: jobs_initial0_Mk10_EI_exp.append(mongo_db[\"%s_initial0_Mk10_EI-%d.jobs\"%(exp_name,i)]) \n",
    "    #if \"%s_initial0_Mk10_EI_1.0-%d.jobs\"%(exp_name,i) in collection_list: jobs_initial0_Mk10_EI_xi10_exp.append(mongo_db[\"%s_initial0_Mk10_EI_1.0-%d.jobs\"%(exp_name,i)]) \n",
    "    if \"%s_initial0_Mk10_EI_0.5-%d.jobs\"%(exp_name,i) in collection_list: jobs_initial0_Mk10_EI_xi05_exp.append(mongo_db[\"%s_initial0_Mk10_EI_0.5-%d.jobs\"%(exp_name,i)]) \n",
    "        \n",
    "    if \"%s_initial0_Mk0_ls01_amp10_EI-%d.recommendations\"%(exp_name,i) in collection_list: recomm_initial0_Mk0_ls01_amp10_EI_exp.append(mongo_db[\"%s_initial0_Mk0_ls01_amp10_EI-%d.recommendations\"%(exp_name,i)]) \n",
    "    #if \"%s_initial0_Mk0_ls01_amp10_EI_1.0-%d.recommendations\"%(exp_name,i) in collection_list: recomm_initial0_Mk0_ls01_amp10_EI_xi10_exp.append(mongo_db[\"%s_initial0_Mk0_ls01_amp10_EI_1.0-%d.recommendations\"%(exp_name,i)]) \n",
    "    if \"%s_initial0_Mk0_ls01_amp10_EI_0.5-%d.recommendations\"%(exp_name,i) in collection_list: recomm_initial0_Mk0_ls01_amp10_EI_xi05_exp.append(mongo_db[\"%s_initial0_Mk0_ls01_amp10_EI_0.5-%d.recommendations\"%(exp_name,i)]) \n",
    "    #if \"%s_initial3_Mk0_ls01_amp10_EI-%d.recommendations\"%(exp_name,i) in collection_list: recomm_initial3_Mk0_ls01_amp10_EI_exp.append(mongo_db[\"%s_initial3_Mk0_ls01_amp10_EI-%d.recommendations\"%(exp_name,i)]) \n",
    "    #if \"%s_initial3_Mk10_EI-%d.recommendations\"%(exp_name,i) in collection_list: recomm_initial3_Mk10_EI_exp.append(mongo_db[\"%s_initial3_Mk10_EI-%d.recommendations\"%(exp_name,i)]) \n",
    "    if \"%s_initial0_Mk10_EI-%d.recommendations\"%(exp_name,i) in collection_list: recomm_initial0_Mk10_EI_exp.append(mongo_db[\"%s_initial0_Mk10_EI-%d.recommendations\"%(exp_name,i)]) \n",
    "    #if \"%s_initial0_Mk10_EI_1.0-%d.recommendations\"%(exp_name,i) in collection_list: recomm_initial0_Mk10_EI_xi10_exp.append(mongo_db[\"%s_initial0_Mk10_EI_1.0-%d.recommendations\"%(exp_name,i)]) \n",
    "    if \"%s_initial0_Mk10_EI_0.5-%d.recommendations\"%(exp_name,i) in collection_list: recomm_initial0_Mk10_EI_xi05_exp.append(mongo_db[\"%s_initial0_Mk10_EI_0.5-%d.recommendations\"%(exp_name,i)]) "
   ]
  },
  {
   "cell_type": "code",
   "execution_count": 6,
   "metadata": {},
   "outputs": [],
   "source": [
    "#jobs_initial3_Mk0_ls01_amp10_PES_exp = []\n",
    "jobs_initial0_Mk0_ls01_amp10_PES_exp = []\n",
    "#jobs_initial3_Mk10_PES_exp = []\n",
    "jobs_initial0_Mk10_PES_exp = []\n",
    "\n",
    "#recomm_initial3_Mk0_ls01_amp10_PES_exp = []\n",
    "recomm_initial0_Mk0_ls01_amp10_PES_exp = []\n",
    "#recomm_initial3_Mk10_PES_exp = []\n",
    "recomm_initial0_Mk10_PES_exp = []\n",
    "\n",
    "for i in range(25):\n",
    "    #if \"%s_initial3_Mk0_ls01_amp10_PES-%d.jobs\"%(exp_name,i) in collection_list: jobs_initial3_Mk0_ls01_amp10_PES_exp.append(mongo_db[\"%s_initial3_Mk0_ls01_amp10_PES-%d.jobs\"%(exp_name,i)]) \n",
    "    if \"%s_initial0_Mk0_ls01_amp10_PES-%d.jobs\"%(exp_name,i) in collection_list: jobs_initial0_Mk0_ls01_amp10_PES_exp.append(mongo_db[\"%s_initial0_Mk0_ls01_amp10_PES-%d.jobs\"%(exp_name,i)]) \n",
    "    #if \"%s_initial3_Mk10_PES-%d.jobs\"%(exp_name,i) in collection_list: jobs_initial3_Mk10_PES_exp.append(mongo_db[\"%s_initial3_Mk10_PES-%d.jobs\"%(exp_name,i)])\n",
    "    if \"%s_initial0_Mk10_PES-%d.jobs\"%(exp_name,i) in collection_list: jobs_initial0_Mk10_PES_exp.append(mongo_db[\"%s_initial0_Mk10_PES-%d.jobs\"%(exp_name,i)])\n",
    "        \n",
    "    #if \"%s_initial3_Mk0_ls01_amp10_PES-%d.recommendations\"%(exp_name,i) in collection_list: recomm_initial3_Mk0_ls01_amp10_PES_exp.append(mongo_db[\"%s_initial3_Mk0_ls01_amp10_PES-%d.recommendations\"%(exp_name,i)]) \n",
    "    if \"%s_initial0_Mk0_ls01_amp10_PES-%d.recommendations\"%(exp_name,i) in collection_list: recomm_initial0_Mk0_ls01_amp10_PES_exp.append(mongo_db[\"%s_initial0_Mk0_ls01_amp10_PES-%d.recommendations\"%(exp_name,i)]) \n",
    "    #if \"%s_initial3_Mk10_PES-%d.recommendations\"%(exp_name,i) in collection_list: recomm_initial3_Mk10_PES_exp.append(mongo_db[\"%s_initial3_Mk10_PES-%d.recommendations\"%(exp_name,i)]) \n",
    "    if \"%s_initial0_Mk10_PES-%d.recommendations\"%(exp_name,i) in collection_list: recomm_initial0_Mk10_PES_exp.append(mongo_db[\"%s_initial0_Mk10_PES-%d.recommendations\"%(exp_name,i)]) "
   ]
  },
  {
   "cell_type": "markdown",
   "metadata": {},
   "source": [
    "## Noisy version"
   ]
  },
  {
   "cell_type": "code",
   "execution_count": 7,
   "metadata": {},
   "outputs": [],
   "source": [
    "noise01_jobs_initial3_Mk0_ls01_amp10_EI_exp = []\n",
    "\n",
    "noise01_recomm_initial3_Mk0_ls01_amp10_EI_exp = []\n",
    "\n",
    "\n",
    "for i in range(25):\n",
    "    if \"%s_noise01_initial3_Mk0_ls01_amp10_EI-%d.jobs\"%(exp_name,i) in collection_list: noise01_jobs_initial3_Mk0_ls01_amp10_EI_exp.append(mongo_db[\"%s_noise01_initial3_Mk0_ls01_amp10_EI-%d.jobs\"%(exp_name,i)]) \n",
    "       \n",
    "    if \"%s_noise01_initial3_Mk0_ls01_amp10_EI-%d.recommendations\"%(exp_name,i) in collection_list: noise01_recomm_initial3_Mk0_ls01_amp10_EI_exp.append(mongo_db[\"%s_noise01_initial3_Mk0_ls01_amp10_EI-%d.recommendations\"%(exp_name,i)]) \n",
    "    "
   ]
  },
  {
   "cell_type": "code",
   "execution_count": 8,
   "metadata": {},
   "outputs": [],
   "source": [
    "#noise01_jobs_initial3_Mk0_ls01_amp10_EI_exp = []\n",
    "#noise01_jobs_initial0_Mk0_ls01_amp10_EI_xi10_exp = []\n",
    "noise01_jobs_initial0_Mk0_ls01_amp10_EI_xi05_exp = []\n",
    "noise01_jobs_initial0_Mk0_ls01_amp10_EI_exp = []\n",
    "\n",
    "#noise01_recomm_initial3_Mk0_ls01_amp10_EI_exp = []\n",
    "noise01_recomm_initial0_Mk0_ls01_amp10_EI_exp = []\n",
    "#noise01_recomm_initial0_Mk0_ls01_amp10_EI_xi10_exp = []\n",
    "noise01_recomm_initial0_Mk0_ls01_amp10_EI_xi05_exp = []\n",
    "\n",
    "\n",
    "for i in range(25):\n",
    "    #if \"%s_noise01_initial3_Mk0_ls01_amp10_EI-%d.jobs\"%(exp_name,i) in collection_list: noise01_jobs_initial3_Mk0_ls01_amp10_EI_exp.append(mongo_db[\"%s_noise01_initial3_Mk0_ls01_amp10_EI-%d.jobs\"%(exp_name,i)]) \n",
    "    if \"%s_noise01_initial0_Mk0_ls01_amp10_EI-%d.jobs\"%(exp_name,i) in collection_list: noise01_jobs_initial0_Mk0_ls01_amp10_EI_exp.append(mongo_db[\"%s_noise01_initial0_Mk0_ls01_amp10_EI-%d.jobs\"%(exp_name,i)]) \n",
    "    #if \"%s_noise01_initial0_Mk0_ls01_amp10_EI_1.0-%d.jobs\"%(exp_name,i) in collection_list: noise01_jobs_initial0_Mk0_ls01_amp10_EI_xi10_exp.append(mongo_db[\"%s_noise01_initial0_Mk0_ls01_amp10_EI_1.0-%d.jobs\"%(exp_name,i)]) \n",
    "    if \"%s_noise01_initial0_Mk0_ls01_amp10_EI_0.5-%d.jobs\"%(exp_name,i) in collection_list: noise01_jobs_initial0_Mk0_ls01_amp10_EI_xi05_exp.append(mongo_db[\"%s_noise01_initial0_Mk0_ls01_amp10_EI_0.5-%d.jobs\"%(exp_name,i)]) \n",
    "       \n",
    "    #if \"%s_noise01_initial3_Mk0_ls01_amp10_EI-%d.recommendations\"%(exp_name,i) in collection_list: noise01_recomm_initial3_Mk0_ls01_amp10_EI_exp.append(mongo_db[\"%s_noise01_initial3_Mk0_ls01_amp10_EI-%d.recommendations\"%(exp_name,i)]) \n",
    "    if \"%s_noise01_initial0_Mk0_ls01_amp10_EI-%d.recommendations\"%(exp_name,i) in collection_list: noise01_recomm_initial0_Mk0_ls01_amp10_EI_exp.append(mongo_db[\"%s_noise01_initial0_Mk0_ls01_amp10_EI-%d.recommendations\"%(exp_name,i)]) \n",
    "    #if \"%s_noise01_initial0_Mk0_ls01_amp10_EI_1.0-%d.recommendations\"%(exp_name,i) in collection_list: noise01_recomm_initial0_Mk0_ls01_amp10_EI_xi10_exp.append(mongo_db[\"%s_noise01_initial0_Mk0_ls01_amp10_EI_1.0-%d.recommendations\"%(exp_name,i)]) \n",
    "    if \"%s_noise01_initial0_Mk0_ls01_amp10_EI_0.5-%d.recommendations\"%(exp_name,i) in collection_list: noise01_recomm_initial0_Mk0_ls01_amp10_EI_xi05_exp.append(mongo_db[\"%s_noise01_initial0_Mk0_ls01_amp10_EI_0.5-%d.recommendations\"%(exp_name,i)]) \n",
    "    "
   ]
  },
  {
   "cell_type": "code",
   "execution_count": 9,
   "metadata": {},
   "outputs": [],
   "source": [
    "#noise01_jobs_initial3_Mk0_ls01_amp10_PES_exp = []\n",
    "noise01_jobs_initial0_Mk0_ls01_amp10_PES_exp = []\n",
    "\n",
    "#noise01_recomm_initial3_Mk0_ls01_amp10_PES_exp = []\n",
    "noise01_recomm_initial0_Mk0_ls01_amp10_PES_exp = []\n",
    "\n",
    "\n",
    "for i in range(25):\n",
    "    #if \"%s_noise01_initial3_Mk0_ls01_amp10_PES-%d.jobs\"%(exp_name,i) in collection_list: noise01_jobs_initial3_Mk0_ls01_amp10_PES_exp.append(mongo_db[\"%s_noise01_initial3_Mk0_ls01_amp10_PES-%d.jobs\"%(exp_name,i)]) \n",
    "    if \"%s_noise01_initial0_Mk0_ls01_amp10_PES-%d.jobs\"%(exp_name,i) in collection_list: noise01_jobs_initial0_Mk0_ls01_amp10_PES_exp.append(mongo_db[\"%s_noise01_initial0_Mk0_ls01_amp10_PES-%d.jobs\"%(exp_name,i)]) \n",
    "       \n",
    "    #if \"%s_noise01_initial3_Mk0_ls01_amp10_PES-%d.recommendations\"%(exp_name,i) in collection_list: noise01_recomm_initial3_Mk0_ls01_amp10_PES_exp.append(mongo_db[\"%s_noise01_initial3_Mk0_ls01_amp10_PES-%d.recommendations\"%(exp_name,i)]) \n",
    "    if \"%s_noise01_initial0_Mk0_ls01_amp10_PES-%d.recommendations\"%(exp_name,i) in collection_list: noise01_recomm_initial0_Mk0_ls01_amp10_PES_exp.append(mongo_db[\"%s_noise01_initial0_Mk0_ls01_amp10_PES-%d.recommendations\"%(exp_name,i)]) \n",
    "    "
   ]
  },
  {
   "cell_type": "markdown",
   "metadata": {},
   "source": [
    "### Get objective method gets the predicted optimal value in GP model"
   ]
  },
  {
   "cell_type": "code",
   "execution_count": 10,
   "metadata": {},
   "outputs": [],
   "source": [
    "locs_initial0_Mk0_ls01_amp10_EI_exp = functions.get_recomm_loc(recomm_initial0_Mk0_ls01_amp10_EI_exp)\n",
    "#locs_initial0_Mk0_ls01_amp10_EI_xi10_exp = functions.get_recomm_loc(recomm_initial0_Mk0_ls01_amp10_EI_xi10_exp)\n",
    "locs_initial0_Mk0_ls01_amp10_EI_xi05_exp = functions.get_recomm_loc(recomm_initial0_Mk0_ls01_amp10_EI_xi05_exp)\n",
    "\n",
    "\n",
    "locs_initial0_Mk10_EI_exp = functions.get_recomm_loc(recomm_initial0_Mk10_EI_exp)\n",
    "#locs_initial0_Mk10_EI_xi10_exp = functions.get_recomm_loc(recomm_initial0_Mk10_EI_xi10_exp)\n",
    "locs_initial0_Mk10_EI_xi05_exp = functions.get_recomm_loc(recomm_initial0_Mk10_EI_xi05_exp)"
   ]
  },
  {
   "cell_type": "code",
   "execution_count": 11,
   "metadata": {},
   "outputs": [],
   "source": [
    "locs_initial0_Mk0_ls01_amp10_PES_exp = functions.get_recomm_loc(recomm_initial0_Mk0_ls01_amp10_PES_exp)\n",
    "locs_initial0_Mk10_PES_exp = functions.get_recomm_loc(recomm_initial0_Mk10_PES_exp)"
   ]
  },
  {
   "cell_type": "code",
   "execution_count": 12,
   "metadata": {},
   "outputs": [],
   "source": [
    "noise01_locs_initial0_Mk0_ls01_amp10_EI_exp = functions.get_recomm_loc(noise01_recomm_initial0_Mk0_ls01_amp10_EI_exp)\n",
    "#noise01_locs_initial0_Mk0_ls01_amp10_EI_xi10_exp = functions.get_recomm_loc(noise01_recomm_initial0_Mk0_ls01_amp10_EI_xi10_exp)\n",
    "noise01_locs_initial0_Mk0_ls01_amp10_EI_xi05_exp = functions.get_recomm_loc(noise01_recomm_initial0_Mk0_ls01_amp10_EI_xi05_exp)"
   ]
  },
  {
   "cell_type": "code",
   "execution_count": 13,
   "metadata": {},
   "outputs": [],
   "source": [
    "noise01_locs_initial0_Mk0_ls01_amp10_PES_exp = functions.get_recomm_loc(noise01_recomm_initial0_Mk0_ls01_amp10_PES_exp)"
   ]
  },
  {
   "cell_type": "markdown",
   "metadata": {},
   "source": [
    "## Getting immediate Regret IR measure"
   ]
  },
  {
   "cell_type": "code",
   "execution_count": 14,
   "metadata": {},
   "outputs": [],
   "source": [
    "from scipy.stats import norm\n",
    "import numpy as np\n",
    "\n",
    "def made_v2(x1):\n",
    "\tminimum = -0.1\n",
    "\tmaximum = 0.1\n",
    "\n",
    "\tdef delta_func(x):\n",
    "\t\treturn np.greater(x,minimum) * np.less(x,maximum) * (-3)\n",
    "\n",
    "\treturn np.sin(x1) + delta_func(x1)"
   ]
  },
  {
   "cell_type": "code",
   "execution_count": 15,
   "metadata": {},
   "outputs": [],
   "source": [
    "opt_val = made_v2(-0.0999)\n",
    "local_opt_val = made_v2(-np.pi/2)"
   ]
  },
  {
   "cell_type": "code",
   "execution_count": 16,
   "metadata": {},
   "outputs": [
    {
     "data": {
      "text/plain": [
       "-1.0"
      ]
     },
     "execution_count": 16,
     "metadata": {},
     "output_type": "execute_result"
    }
   ],
   "source": [
    "local_opt_val"
   ]
  },
  {
   "cell_type": "code",
   "execution_count": 17,
   "metadata": {},
   "outputs": [
    {
     "data": {
      "text/plain": [
       "-3.0997339157312993"
      ]
     },
     "execution_count": 17,
     "metadata": {},
     "output_type": "execute_result"
    }
   ],
   "source": [
    "opt_val"
   ]
  },
  {
   "cell_type": "code",
   "execution_count": 28,
   "metadata": {},
   "outputs": [],
   "source": [
    "func = made_v2"
   ]
  },
  {
   "cell_type": "code",
   "execution_count": 18,
   "metadata": {},
   "outputs": [],
   "source": [
    "from numpy import linspace"
   ]
  },
  {
   "cell_type": "code",
   "execution_count": 19,
   "metadata": {},
   "outputs": [],
   "source": [
    "x = linspace(-5.12,5.12,1000)"
   ]
  },
  {
   "cell_type": "code",
   "execution_count": 20,
   "metadata": {},
   "outputs": [
    {
     "data": {
      "text/plain": [
       "[<matplotlib.lines.Line2D at 0x7f46df560f10>]"
      ]
     },
     "execution_count": 20,
     "metadata": {},
     "output_type": "execute_result"
    },
    {
     "data": {
      "image/png": "[encoded data removed]",
      "text/plain": [
       "<Figure size 432x288 with 1 Axes>"
      ]
     },
     "metadata": {
      "needs_background": "light"
     },
     "output_type": "display_data"
    }
   ],
   "source": [
    "plt.plot(x,made_v2(x))"
   ]
  },
  {
   "cell_type": "code",
   "execution_count": 21,
   "metadata": {},
   "outputs": [],
   "source": [
    "def get_sugg_obj_exp(locs_exp):\n",
    "    obj_exp = []\n",
    "    for exp_num in range(len(locs_exp)):\n",
    "        objs_iter = []\n",
    "        locs_cur_exp = locs_exp[exp_num]\n",
    "        \n",
    "        for idx in range(len(locs_exp[exp_num])):\n",
    "            objs_iter.append(func(*locs_cur_exp[idx]))\n",
    "            \n",
    "        obj_exp.append(objs_iter)\n",
    "        \n",
    "    return obj_exp\n"
   ]
  },
  {
   "cell_type": "code",
   "execution_count": 22,
   "metadata": {},
   "outputs": [],
   "source": [
    "def log_ir(input_list):\n",
    "    return np.log10(np.abs(opt_val - func(*input_list)))"
   ]
  },
  {
   "cell_type": "code",
   "execution_count": 23,
   "metadata": {},
   "outputs": [],
   "source": [
    "def get_irs_whole_exp(locs_exp):\n",
    "    irs_exp = []\n",
    "    for exp_num in range(len(locs_exp)):\n",
    "        irs_iter = []\n",
    "        locs_cur_exp = locs_exp[exp_num]\n",
    "        \n",
    "        for idx in range(len(locs_exp[0])):\n",
    "            \n",
    "            irs_iter.append(log_ir(locs_cur_exp[idx]))\n",
    "            \n",
    "        irs_exp.append(irs_iter)\n",
    "        \n",
    "    return irs_exp"
   ]
  },
  {
   "cell_type": "code",
   "execution_count": 24,
   "metadata": {},
   "outputs": [],
   "source": [
    "def get_avg_irs(irs_exp):\n",
    "    avg_irs = []\n",
    "    for iter_num in range(len(irs_exp[0])):\n",
    "        cur_iter_irs = []\n",
    "        for exp_num in range(len(irs_exp)):\n",
    "            cur_iter_irs.append(irs_exp[exp_num][iter_num])\n",
    "            \n",
    "        avg_irs.append(np.average(cur_iter_irs))\n",
    "        \n",
    "    return avg_irs\n"
   ]
  },
  {
   "cell_type": "code",
   "execution_count": 25,
   "metadata": {},
   "outputs": [],
   "source": [
    "def get_median_irs(irs_exp):\n",
    "    median_irs = []\n",
    "    for iter_num in range(len(irs_exp[0])):\n",
    "        cur_iter_irs = []\n",
    "        for exp_num in range(len(irs_exp)):\n",
    "            cur_iter_irs.append(irs_exp[exp_num][iter_num])\n",
    "        \n",
    "        median_irs.append(np.median(cur_iter_irs))\n",
    "        \n",
    "    return median_irs\n",
    "\n"
   ]
  },
  {
   "cell_type": "code",
   "execution_count": 26,
   "metadata": {},
   "outputs": [],
   "source": [
    "def get_std_err_irs(irs_exp):\n",
    "    std_err_irs = []\n",
    "    for iter_num in range(len(irs_exp[0])):\n",
    "        cur_iter_irs = []\n",
    "        for exp_num in range(len(irs_exp)):\n",
    "            cur_iter_irs.append(irs_exp[exp_num][iter_num])\n",
    "            \n",
    "        std_err_irs.append(np.std(cur_iter_irs))\n",
    "        \n",
    "    return std_err_irs"
   ]
  },
  {
   "cell_type": "markdown",
   "metadata": {},
   "source": [
    "## Getting the 'real' value of functions at suggested locations"
   ]
  },
  {
   "cell_type": "code",
   "execution_count": 29,
   "metadata": {},
   "outputs": [],
   "source": [
    "sugg_obj_initial0_Mk0_ls01_amp10_EI_exp = get_sugg_obj_exp(locs_initial0_Mk0_ls01_amp10_EI_exp)\n",
    "#sugg_obj_initial0_Mk0_ls01_amp10_EI_xi10_exp = get_sugg_obj_exp(locs_initial0_Mk0_ls01_amp10_EI_xi10_exp)\n",
    "sugg_obj_initial0_Mk0_ls01_amp10_EI_xi05_exp = get_sugg_obj_exp(locs_initial0_Mk0_ls01_amp10_EI_xi05_exp)\n",
    "sugg_obj_initial0_Mk10_EI_exp = get_sugg_obj_exp(locs_initial0_Mk10_EI_exp)\n",
    "#sugg_obj_initial0_Mk10_EI_xi10_exp = get_sugg_obj_exp(locs_initial0_Mk10_EI_xi10_exp)\n",
    "sugg_obj_initial0_Mk10_EI_xi05_exp = get_sugg_obj_exp(locs_initial0_Mk10_EI_xi05_exp)"
   ]
  },
  {
   "cell_type": "code",
   "execution_count": 30,
   "metadata": {},
   "outputs": [],
   "source": [
    "noise01_sugg_obj_initial0_Mk0_ls01_amp10_EI_exp = get_sugg_obj_exp(noise01_locs_initial0_Mk0_ls01_amp10_EI_exp)\n",
    "#noise01_sugg_obj_initial0_Mk0_ls01_amp10_EI_xi10_exp = get_sugg_obj_exp(noise01_locs_initial0_Mk0_ls01_amp10_EI_xi10_exp)\n",
    "noise01_sugg_obj_initial0_Mk0_ls01_amp10_EI_xi05_exp = get_sugg_obj_exp(noise01_locs_initial0_Mk0_ls01_amp10_EI_xi05_exp)"
   ]
  },
  {
   "cell_type": "code",
   "execution_count": 31,
   "metadata": {},
   "outputs": [],
   "source": [
    "sugg_obj_initial0_Mk0_ls01_amp10_PES_exp = get_sugg_obj_exp(locs_initial0_Mk0_ls01_amp10_PES_exp)\n",
    "sugg_obj_initial0_Mk10_PES_exp = get_sugg_obj_exp(locs_initial0_Mk10_PES_exp)"
   ]
  },
  {
   "cell_type": "code",
   "execution_count": 32,
   "metadata": {},
   "outputs": [],
   "source": [
    "noise01_sugg_obj_initial0_Mk0_ls01_amp10_PES_exp = get_sugg_obj_exp(noise01_locs_initial0_Mk0_ls01_amp10_PES_exp)"
   ]
  },
  {
   "cell_type": "markdown",
   "metadata": {},
   "source": [
    "## Averaging values of each experiments"
   ]
  },
  {
   "cell_type": "code",
   "execution_count": 33,
   "metadata": {},
   "outputs": [],
   "source": [
    "avg_sugg_obj_initial0_Mk0_ls01_amp10_EI = np.average(sugg_obj_initial0_Mk0_ls01_amp10_EI_exp, axis=0)\n",
    "#avg_sugg_obj_initial0_Mk0_ls01_amp10_EI_xi10 = np.average(sugg_obj_initial0_Mk0_ls01_amp10_EI_xi10_exp, axis=0)\n",
    "avg_sugg_obj_initial0_Mk0_ls01_amp10_EI_xi05 = np.average(sugg_obj_initial0_Mk0_ls01_amp10_EI_xi05_exp, axis=0)\n",
    "\n",
    "\n",
    "avg_sugg_obj_initial0_Mk10_EI = np.average(sugg_obj_initial0_Mk10_EI_exp,axis=0)\n",
    "#avg_sugg_obj_initial0_Mk10_EI_xi10 = np.average(sugg_obj_initial0_Mk10_EI_xi10_exp,axis=0)\n",
    "avg_sugg_obj_initial0_Mk10_EI_xi05 = np.average(sugg_obj_initial0_Mk10_EI_xi05_exp,axis=0)"
   ]
  },
  {
   "cell_type": "code",
   "execution_count": 34,
   "metadata": {},
   "outputs": [],
   "source": [
    "\n",
    "noise01_avg_sugg_obj_initial0_Mk0_ls01_amp10_EI = np.average(noise01_sugg_obj_initial0_Mk0_ls01_amp10_EI_exp, axis=0)\n",
    "#noise01_avg_sugg_obj_initial0_Mk0_ls01_amp10_EI_xi10 = np.average(noise01_sugg_obj_initial0_Mk0_ls01_amp10_EI_xi10_exp, axis=0)\n",
    "noise01_avg_sugg_obj_initial0_Mk0_ls01_amp10_EI_xi05 = np.average(noise01_sugg_obj_initial0_Mk0_ls01_amp10_EI_xi05_exp, axis=0)"
   ]
  },
  {
   "cell_type": "code",
   "execution_count": 35,
   "metadata": {},
   "outputs": [],
   "source": [
    "avg_sugg_obj_initial0_Mk0_ls01_amp10_PES = np.average(sugg_obj_initial0_Mk0_ls01_amp10_PES_exp, axis=0)\n",
    "avg_sugg_obj_initial0_Mk10_PES = np.average(sugg_obj_initial0_Mk10_PES_exp,axis=0)"
   ]
  },
  {
   "cell_type": "code",
   "execution_count": 36,
   "metadata": {},
   "outputs": [],
   "source": [
    "noise01_avg_sugg_obj_initial0_Mk0_ls01_amp10_PES = np.average(noise01_sugg_obj_initial0_Mk0_ls01_amp10_PES_exp, axis=0)"
   ]
  },
  {
   "cell_type": "markdown",
   "metadata": {},
   "source": [
    "## Getting IR values for look optimization performances"
   ]
  },
  {
   "cell_type": "code",
   "execution_count": 37,
   "metadata": {},
   "outputs": [],
   "source": [
    "irs_initial0_Mj0_ls01_amp10_EI_exp = get_irs_whole_exp(locs_initial0_Mk0_ls01_amp10_EI_exp)\n",
    "#irs_initial0_Mj0_ls01_amp10_EI_xi10_exp = get_irs_whole_exp(locs_initial0_Mk0_ls01_amp10_EI_xi10_exp)\n",
    "irs_initial0_Mj0_ls01_amp10_EI_xi05_exp = get_irs_whole_exp(locs_initial0_Mk0_ls01_amp10_EI_xi05_exp)\n",
    "irs_initial0_Mk10_EI_exp = get_irs_whole_exp(locs_initial0_Mk10_EI_exp)\n",
    "#irs_initial0_Mk10_EI_xi10_exp = get_irs_whole_exp(locs_initial0_Mk10_EI_xi10_exp)\n",
    "irs_initial0_Mk10_EI_xi05_exp = get_irs_whole_exp(locs_initial0_Mk10_EI_xi05_exp)"
   ]
  },
  {
   "cell_type": "code",
   "execution_count": 38,
   "metadata": {},
   "outputs": [],
   "source": [
    "noise01_irs_initial0_Mj0_ls01_amp10_EI_exp = get_irs_whole_exp(noise01_locs_initial0_Mk0_ls01_amp10_EI_exp)\n",
    "#noise01_irs_initial0_Mj0_ls01_amp10_EI_xi10_exp = get_irs_whole_exp(noise01_locs_initial0_Mk0_ls01_amp10_EI_xi10_exp)\n",
    "noise01_irs_initial0_Mj0_ls01_amp10_EI_xi05_exp = get_irs_whole_exp(noise01_locs_initial0_Mk0_ls01_amp10_EI_xi05_exp)"
   ]
  },
  {
   "cell_type": "code",
   "execution_count": 39,
   "metadata": {},
   "outputs": [
    {
     "ename": "NameError",
     "evalue": "name 'locs_initial3_Mk10_PES_exp' is not defined",
     "output_type": "error",
     "traceback": [
      "\u001b[0;31m---------------------------------------------------------------------------\u001b[0m",
      "\u001b[0;31mNameError\u001b[0m                                 Traceback (most recent call last)",
      "\u001b[0;32m<ipython-input-39-9b1b60b76e28>\u001b[0m in \u001b[0;36m<module>\u001b[0;34m()\u001b[0m\n\u001b[0;32m----> 1\u001b[0;31m \u001b[0mirs_initial3_Mk10_PES_exp\u001b[0m \u001b[0;34m=\u001b[0m \u001b[0mget_irs_whole_exp\u001b[0m\u001b[0;34m(\u001b[0m\u001b[0mlocs_initial3_Mk10_PES_exp\u001b[0m\u001b[0;34m)\u001b[0m\u001b[0;34m\u001b[0m\u001b[0m\n\u001b[0m",
      "\u001b[0;31mNameError\u001b[0m: name 'locs_initial3_Mk10_PES_exp' is not defined"
     ]
    }
   ],
   "source": [
    "irs_initial3_Mk10_PES_exp = get_irs_whole_exp(locs_initial3_Mk10_PES_exp)"
   ]
  },
  {
   "cell_type": "markdown",
   "metadata": {},
   "source": [
    "## Plotting the real function value at suggested locations"
   ]
  },
  {
   "cell_type": "code",
   "execution_count": 43,
   "metadata": {},
   "outputs": [
    {
     "data": {
      "image/png": "[encoded data removed]",
      "text/plain": [
       "<Figure size 720x504 with 1 Axes>"
      ]
     },
     "metadata": {
      "needs_background": "light"
     },
     "output_type": "display_data"
    }
   ],
   "source": [
    "plt.figure(figsize=(10,7))\n",
    "plt.plot(avg_sugg_obj_initial0_Mk0_ls01_amp10_EI, label=\"0 initial, ls01 amp10, EI\")\n",
    "#plt.plot(noise01_avg_sugg_obj_initial0_Mk0_ls01_amp10_EI, label=\"noised 0 initial, ls01 amp10, EI\")\n",
    "plt.plot(avg_sugg_obj_initial0_Mk10_EI, label=\"0 initial, Mk10, EI\")\n",
    "\n",
    "\n",
    "plt.plot(avg_sugg_obj_initial0_Mk0_ls01_amp10_EI_xi05, label=\"0 initial, ls01 amp10, EI with xi_0.5\")\n",
    "#plt.plot(noise01_avg_sugg_obj_initial0_Mk0_ls01_amp10_EI_xi05, label=\"noised 0 initial, ls01 amp10, EI with xi_0.5\")\n",
    "plt.plot(avg_sugg_obj_initial0_Mk10_EI_xi05, label=\"0 initial, Mk10, EI with xi_0.5\")\n",
    "\n",
    "plt.plot(avg_sugg_obj_initial0_Mk0_ls01_amp10_PES, label=\"0 initial, ls01 amp10, PES\")\n",
    "plt.plot(avg_sugg_obj_initial0_Mk10_EI, label=\"0 initial, Mk10, EI\")\n",
    "plt.hlines(opt_val, xmin=0, xmax=100, colors='k')\n",
    "plt.hlines(local_opt_val, xmin=0, xmax=100, colors='k')\n",
    "plt.ylim(ymin=-3.2, ymax = -0.5)\n",
    "plt.legend()\n",
    "plt.show()"
   ]
  },
  {
   "cell_type": "code",
   "execution_count": null,
   "metadata": {},
   "outputs": [],
   "source": []
  }
 ],
 "metadata": {
  "kernelspec": {
   "display_name": "Python 2",
   "language": "python",
   "name": "python2"
  },
  "language_info": {
   "codemirror_mode": {
    "name": "ipython",
    "version": 2
   },
   "file_extension": ".py",
   "mimetype": "text/x-python",
   "name": "python",
   "nbconvert_exporter": "python",
   "pygments_lexer": "ipython2",
   "version": "2.7.18"
  }
 },
 "nbformat": 4,
 "nbformat_minor": 2
}
