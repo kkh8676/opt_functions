{
 "cells": [
  {
   "cell_type": "markdown",
   "metadata": {},
   "source": [
    "## Goldstein-price function\n",
    "## 2-dimension function"
   ]
  },
  {
   "cell_type": "code",
   "execution_count": 4,
   "metadata": {},
   "outputs": [],
   "source": [
    "import numpy as np"
   ]
  },
  {
   "cell_type": "code",
   "execution_count": 23,
   "metadata": {},
   "outputs": [],
   "source": [
    "def goldstein_price(x):\n",
    "    x = np.atleast_2d(x)\n",
    "    \n",
    "    x1 = x[:,0]\n",
    "    x2 = x[:,1]\n",
    "    \n",
    "    \n",
    "    a1 = x1 + x2 + 1\n",
    "    a2 = 19 - 14*x1+3*x1**2-14*x2+6*x1*x2+3*x2**2\n",
    "    \n",
    "    b1 = 2*x1-3*x2\n",
    "    b2 = 18-32*x1+12*x1**2+48*x2-36*x1*x2+27*x2**2\n",
    "    \n",
    "    A = 1 + (a1**2)*a2\n",
    "    B = 30 +(b1**2)*b2\n",
    "    \n",
    "    return (1+A)*(30+B)"
   ]
  },
  {
   "cell_type": "markdown",
   "metadata": {},
   "source": [
    "## Schaffer function 2"
   ]
  },
  {
   "cell_type": "code",
   "execution_count": 24,
   "metadata": {},
   "outputs": [],
   "source": [
    "def schaffer_2(x):\n",
    "    x = np.atleast_2d(x)\n",
    "    \n",
    "    x1 = x[:,0]\n",
    "    x2 = x[:,1]\n",
    "    \n",
    "    A = np.sin((x1**2-x2**2))**2 - 0.5\n",
    "    B = 1 + 0.001*(x1**2+x2**2)\n",
    "    \n",
    "    return 0.5 + A/(B**2)"
   ]
  },
  {
   "cell_type": "code",
   "execution_count": 25,
   "metadata": {},
   "outputs": [],
   "source": [
    "x = [[1,2],[3,4],[5,6]]"
   ]
  },
  {
   "cell_type": "code",
   "execution_count": 26,
   "metadata": {},
   "outputs": [
    {
     "data": {
      "text/plain": [
       "array([0.02467994, 0.43492577, 0.94414239])"
      ]
     },
     "execution_count": 26,
     "metadata": {},
     "output_type": "execute_result"
    }
   ],
   "source": [
    "schaffer_2(x)"
   ]
  },
  {
   "cell_type": "markdown",
   "metadata": {},
   "source": [
    "## Schaffer function 4"
   ]
  },
  {
   "cell_type": "code",
   "execution_count": 29,
   "metadata": {},
   "outputs": [],
   "source": [
    "def schaffer_4(x):\n",
    "    x = np.atleast_2d(x)\n",
    "    \n",
    "    x1 = x[:,0]\n",
    "    x2 = x[:,1]\n",
    "    \n",
    "    B = 1 + 0.001*(x1**2+x2**2)\n",
    "    A = np.cos(np.sin(np.abs((x1**2-x2**2)))) - 0.5\n",
    "    \n",
    "    return 0.5 + A/(B**2)"
   ]
  },
  {
   "cell_type": "code",
   "execution_count": 30,
   "metadata": {},
   "outputs": [
    {
     "data": {
      "text/plain": [
       "array([0.98519501, 0.77777391, 0.53580865])"
      ]
     },
     "execution_count": 30,
     "metadata": {},
     "output_type": "execute_result"
    }
   ],
   "source": [
    "schaffer_4(x)"
   ]
  },
  {
   "cell_type": "markdown",
   "metadata": {},
   "source": [
    "## Levy function dimension customizing possible"
   ]
  },
  {
   "cell_type": "code",
   "execution_count": 57,
   "metadata": {},
   "outputs": [],
   "source": [
    "def levy(x,dim):\n",
    "    x = np.array(x)\n",
    "    x_list = []\n",
    "    w_list = []\n",
    "    for i in range(dim):\n",
    "        \n",
    "        x_list.append(x[:,i].reshape(x.shape[0],1))\n",
    "        w_list.append((x_list[i]-1)/4+1)\n",
    "    A = np.sin(np.pi * w_list[0]) ** 2\n",
    "    \n",
    "    c1 = (w_list[dim-1]-1)**2\n",
    "    c2 = 1 + np.sin(2*np.pi*w_list[dim-1])\n",
    "    C = c1 * c2\n",
    "    \n",
    "    B = 0\n",
    "    for i in range(dim-1):\n",
    "        b1 = (w_list[i]-1)**2\n",
    "        b2 = 1+ 10 * (np.sin(np.pi * w_list[i] + 1))**2\n",
    "        \n",
    "        B = B + b1 * b2\n",
    "    \n",
    "    return A + B + C"
   ]
  },
  {
   "cell_type": "code",
   "execution_count": 58,
   "metadata": {},
   "outputs": [],
   "source": [
    "x = [[1,2],[3,4],[5,6]]"
   ]
  },
  {
   "cell_type": "code",
   "execution_count": 59,
   "metadata": {},
   "outputs": [
    {
     "data": {
      "text/plain": [
       "array([[ 0.125     ],\n",
       "       [ 1.97981645],\n",
       "       [11.20573418]])"
      ]
     },
     "execution_count": 59,
     "metadata": {},
     "output_type": "execute_result"
    }
   ],
   "source": [
    "levy(x,2)"
   ]
  },
  {
   "cell_type": "code",
   "execution_count": 60,
   "metadata": {},
   "outputs": [],
   "source": [
    "x_6d = [[1,2,3,4,5,6],[2,3,4,5,6,7]]"
   ]
  },
  {
   "cell_type": "code",
   "execution_count": 61,
   "metadata": {},
   "outputs": [
    {
     "data": {
      "text/plain": [
       "array([[13.66230707],\n",
       "       [29.76619322]])"
      ]
     },
     "execution_count": 61,
     "metadata": {},
     "output_type": "execute_result"
    }
   ],
   "source": [
    "levy(x_6d,6)"
   ]
  },
  {
   "cell_type": "markdown",
   "metadata": {},
   "source": [
    "## Sum of different Power function"
   ]
  },
  {
   "cell_type": "code",
   "execution_count": 62,
   "metadata": {},
   "outputs": [],
   "source": [
    "def sumdifpow(x,dim):\n",
    "    x = np.array(x)\n",
    "    x_list = []\n",
    "    w_list = []\n",
    "    for i in range(dim):\n",
    "        \n",
    "        x_list.append(x[:,i].reshape(x.shape[0],1))\n",
    "    \n",
    "    result = 0\n",
    "    for i in range(dim):\n",
    "        result = result + np.abs(x_list[i]) ** (i+2)\n",
    "        \n",
    "    return result"
   ]
  },
  {
   "cell_type": "code",
   "execution_count": 63,
   "metadata": {},
   "outputs": [
    {
     "data": {
      "text/plain": [
       "[[1, 2], [3, 4], [5, 6]]"
      ]
     },
     "execution_count": 63,
     "metadata": {},
     "output_type": "execute_result"
    }
   ],
   "source": [
    "x"
   ]
  },
  {
   "cell_type": "code",
   "execution_count": 64,
   "metadata": {},
   "outputs": [
    {
     "data": {
      "text/plain": [
       "array([[  9],\n",
       "       [ 73],\n",
       "       [241]], dtype=int32)"
      ]
     },
     "execution_count": 64,
     "metadata": {},
     "output_type": "execute_result"
    }
   ],
   "source": [
    "sumdifpow(x,2)"
   ]
  },
  {
   "cell_type": "markdown",
   "metadata": {},
   "source": [
    "## Trid function"
   ]
  },
  {
   "cell_type": "code",
   "execution_count": 72,
   "metadata": {},
   "outputs": [],
   "source": [
    "def trid(x,dim):\n",
    "    x = np.array(x)\n",
    "    \n",
    "    x_list = []\n",
    "    for i in range(dim):\n",
    "        x_list.append(x[:,i].reshape(x.shape[0],1))\n",
    "        \n",
    "    A = 0\n",
    "    B = 0\n",
    "    \n",
    "    for i in range(dim):\n",
    "        a = (x_list[i]-1)**2\n",
    "        A = A + a\n",
    "    \n",
    "    for i in range(dim-1):\n",
    "        b = x_list[i+1] * x_list[i] - 1\n",
    "        B = B + b\n",
    "        \n",
    "    return A - B"
   ]
  },
  {
   "cell_type": "code",
   "execution_count": 73,
   "metadata": {},
   "outputs": [
    {
     "data": {
      "text/plain": [
       "[[1, 2], [3, 4], [5, 6]]"
      ]
     },
     "execution_count": 73,
     "metadata": {},
     "output_type": "execute_result"
    }
   ],
   "source": [
    "x"
   ]
  },
  {
   "cell_type": "code",
   "execution_count": 74,
   "metadata": {},
   "outputs": [
    {
     "data": {
      "text/plain": [
       "array([[ 0],\n",
       "       [ 2],\n",
       "       [12]])"
      ]
     },
     "execution_count": 74,
     "metadata": {},
     "output_type": "execute_result"
    }
   ],
   "source": [
    "trid(x,2)"
   ]
  },
  {
   "cell_type": "markdown",
   "metadata": {},
   "source": [
    "## Zakharov function"
   ]
  },
  {
   "cell_type": "code",
   "execution_count": 75,
   "metadata": {},
   "outputs": [],
   "source": [
    "def zakharov(x,dim):\n",
    "    x = np.array(x)\n",
    "    \n",
    "    x_list = []\n",
    "    for i in range(dim):\n",
    "        x_list.append(x[:,i].reshape(x.shape[0],1))\n",
    "    \n",
    "    A = 0\n",
    "    B = 0\n",
    "    C = 0\n",
    "    for i in range(dim):\n",
    "        A = A + x_list[i]**2\n",
    "        B = B + 0.5 * (i+1) * x_list[i]\n",
    "    \n",
    "    return A + B**2 + B**4\n",
    "        \n",
    "    \n",
    "    "
   ]
  },
  {
   "cell_type": "code",
   "execution_count": 76,
   "metadata": {},
   "outputs": [
    {
     "data": {
      "text/plain": [
       "[[1, 2], [3, 4], [5, 6]]"
      ]
     },
     "execution_count": 76,
     "metadata": {},
     "output_type": "execute_result"
    }
   ],
   "source": [
    "x"
   ]
  },
  {
   "cell_type": "code",
   "execution_count": 77,
   "metadata": {},
   "outputs": [
    {
     "data": {
      "text/plain": [
       "array([[  50.3125],\n",
       "       [ 970.3125],\n",
       "       [5353.3125]])"
      ]
     },
     "execution_count": 77,
     "metadata": {},
     "output_type": "execute_result"
    }
   ],
   "source": [
    "zakharov(x,2)"
   ]
  },
  {
   "cell_type": "code",
   "execution_count": 78,
   "metadata": {},
   "outputs": [],
   "source": [
    "x_1d = [[1]]"
   ]
  },
  {
   "cell_type": "code",
   "execution_count": 79,
   "metadata": {},
   "outputs": [
    {
     "data": {
      "text/plain": [
       "array([[1.3125]])"
      ]
     },
     "execution_count": 79,
     "metadata": {},
     "output_type": "execute_result"
    }
   ],
   "source": [
    "zakharov(x_1d,1)"
   ]
  },
  {
   "cell_type": "markdown",
   "metadata": {},
   "source": [
    "## Michalewicz function"
   ]
  },
  {
   "cell_type": "code",
   "execution_count": 83,
   "metadata": {},
   "outputs": [],
   "source": [
    "def michalewicz(x,dim):\n",
    "    x = np.array(x)\n",
    "    x_list = []\n",
    "    m = 10\n",
    "    for i in range(dim):\n",
    "        x_list.append(x[:,i].reshape(x.shape[0],1))\n",
    "    result = 0\n",
    "    for i in range(dim):\n",
    "        A = np.sin(x_list[i])\n",
    "        B = np.sin((i+1)*x_list[i]**2/np.pi)**(2*m)\n",
    "            \n",
    "        result = result + A*B\n",
    "            \n",
    "    return result\n",
    "        \n"
   ]
  },
  {
   "cell_type": "code",
   "execution_count": 84,
   "metadata": {},
   "outputs": [],
   "source": [
    "x_m_test = [[2.20,1.57]]"
   ]
  },
  {
   "cell_type": "code",
   "execution_count": 85,
   "metadata": {},
   "outputs": [
    {
     "data": {
      "text/plain": [
       "array([[1.80114072]])"
      ]
     },
     "execution_count": 85,
     "metadata": {},
     "output_type": "execute_result"
    }
   ],
   "source": [
    "michalewicz(x_m_test, 2)"
   ]
  },
  {
   "cell_type": "markdown",
   "metadata": {},
   "source": [
    "## Ackley function"
   ]
  },
  {
   "cell_type": "code",
   "execution_count": 5,
   "metadata": {},
   "outputs": [],
   "source": [
    "import numpy as np"
   ]
  },
  {
   "cell_type": "code",
   "execution_count": 14,
   "metadata": {},
   "outputs": [],
   "source": [
    "def ackley(x,dim):\n",
    "    x = np.array(x)\n",
    "    x_list = []\n",
    "    for i in range(dim):\n",
    "        x_list.append(x[:,i].reshape(x.shape[0],1))\n",
    "    a = 20\n",
    "    b = 0.2\n",
    "    c = np.pi * 2\n",
    "    \n",
    "    squared_sum = 0\n",
    "    cos = 0\n",
    "    for i in range(dim):\n",
    "        squared_sum = x_list[i] ** 2 + squared_sum\n",
    "        cos = cos + np.cos(c*x_list[i])\n",
    "        \n",
    "    A = -a * np.exp(-b*np.sqrt(squared_sum/dim))\n",
    "    B = -np.exp(cos/dim)\n",
    "    C = a\n",
    "    D = np.exp(1)\n",
    "    result = A + B + C + D\n",
    "    return result.reshape(result.shape[0],1)"
   ]
  },
  {
   "cell_type": "code",
   "execution_count": 15,
   "metadata": {},
   "outputs": [],
   "source": [
    "x = [[0,0,0,0,0]]"
   ]
  },
  {
   "cell_type": "code",
   "execution_count": 16,
   "metadata": {},
   "outputs": [
    {
     "data": {
      "text/plain": [
       "array([[4.4408921e-16]])"
      ]
     },
     "execution_count": 16,
     "metadata": {},
     "output_type": "execute_result"
    }
   ],
   "source": [
    "ackley(x,5)"
   ]
  },
  {
   "cell_type": "markdown",
   "metadata": {},
   "source": [
    "## Branin function"
   ]
  },
  {
   "cell_type": "code",
   "execution_count": 21,
   "metadata": {},
   "outputs": [],
   "source": [
    "def branin(x):\n",
    "    sigma = 0\n",
    "    x = np.atleast_2d(x)\n",
    "    \n",
    "    x1 = x[:,0]\n",
    "    x2 = x[:,1]\n",
    "   \n",
    "    a = 1\n",
    "    b = 5.1/(4*np.pi**2)\n",
    "    c = 5/np.pi\n",
    "    r = 6\n",
    "    s = 10\n",
    "    t = 1/(8*np.pi)\n",
    "    \n",
    "    A = a * ((x2 - b*(x1**2) + c*x1 - r) **2)\n",
    "    B = s * (1-t) * np.cos(x1)\n",
    "    \n",
    "    result = A + B + s\n",
    "    \n",
    "    return result.reshape(result.shape[0],1) + np.random.normal(0,sigma,result.shape[0]).reshape(result.shape[0],1)"
   ]
  },
  {
   "cell_type": "code",
   "execution_count": 22,
   "metadata": {},
   "outputs": [
    {
     "data": {
      "text/plain": [
       "array([[0.39788736]])"
      ]
     },
     "execution_count": 22,
     "metadata": {},
     "output_type": "execute_result"
    }
   ],
   "source": [
    "branin([9.42478,2.475])"
   ]
  },
  {
   "cell_type": "code",
   "execution_count": 6,
   "metadata": {},
   "outputs": [
    {
     "data": {
      "text/plain": [
       "array([9.42478, 2.475  ])"
      ]
     },
     "execution_count": 6,
     "metadata": {},
     "output_type": "execute_result"
    }
   ],
   "source": [
    "np.array([9.42478,2.475])"
   ]
  },
  {
   "cell_type": "markdown",
   "metadata": {},
   "source": [
    "### Rosenbrock function"
   ]
  },
  {
   "cell_type": "code",
   "execution_count": 1,
   "metadata": {},
   "outputs": [],
   "source": [
    "def rosenbrock(x,dim):\n",
    "    sigma = 0\n",
    "    \n",
    "    x = np.array(x)\n",
    "    x_list = []\n",
    "    \n",
    "    for i in range(dim):\n",
    "        x_list.append(x[:,i].reshape(x.shape[0],1))\n",
    "    \n",
    "    total_sum = 0 \n",
    "    for i in range(dim-1):\n",
    "        a = 100 * (x_list[i+1] - x_list[i] **2) **2\n",
    "        b = (x_list[i] - 1)**2\n",
    "        \n",
    "        total_sum = total_sum + (a+b)\n",
    "        \n",
    "    result = total_sum\n",
    "    \n",
    "    return result.reshape(result.shape[0],1) + np.random.normal(0,sigma,result.shape[0]).reshape(result.shape[0],1)\n",
    "    "
   ]
  },
  {
   "cell_type": "code",
   "execution_count": 2,
   "metadata": {},
   "outputs": [],
   "source": [
    "x_test = [[1,1,1],[1,1,1]]"
   ]
  },
  {
   "cell_type": "code",
   "execution_count": 5,
   "metadata": {},
   "outputs": [
    {
     "data": {
      "text/plain": [
       "array([[0.],\n",
       "       [0.]])"
      ]
     },
     "execution_count": 5,
     "metadata": {},
     "output_type": "execute_result"
    }
   ],
   "source": [
    "rosenbrock(x_test,3)"
   ]
  },
  {
   "cell_type": "code",
   "execution_count": null,
   "metadata": {},
   "outputs": [],
   "source": []
  }
 ],
 "metadata": {
  "kernelspec": {
   "display_name": "Python 2",
   "language": "python",
   "name": "python2"
  },
  "language_info": {
   "codemirror_mode": {
    "name": "ipython",
    "version": 2
   },
   "file_extension": ".py",
   "mimetype": "text/x-python",
   "name": "python",
   "nbconvert_exporter": "python",
   "pygments_lexer": "ipython2",
   "version": "2.7.17"
  }
 },
 "nbformat": 4,
 "nbformat_minor": 2
}
